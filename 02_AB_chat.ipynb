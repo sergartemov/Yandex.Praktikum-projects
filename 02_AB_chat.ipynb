{
 "cells": [
  {
   "cell_type": "markdown",
   "metadata": {},
   "source": [
    "# A/B тест «Чат с менеджером» на сайте онлайн-ритейлера"
   ]
  },
  {
   "cell_type": "markdown",
   "metadata": {},
   "source": [
    "<a name=\"Содержание\"></a> \n",
    "### Содержание:\n",
    "0. [Описание проекта, описание данных, загрузка и импорт библиотек](#0.)\n",
    "1. [Загрузка датасета, первичный осмотр](#1.)\n",
    "2. [Предобработка данных](#2.)\n",
    "3. [Исследовательский анализ данных](#3.)  \n",
    "    3.1. [Воронка событий](#3.1.)  \n",
    "    3.2. [Связанная воронка событий](#3.2.)  \n",
    "    3.3. [Несвязанная воронка событий](#3.3.)  \n",
    "    3.4. [Исследование различий в тестовых группах](#3.4.)  \n",
    "    3.5. [Конверсия в группах](#3.5.)  \n",
    "4. [A/B тестирование](#4.)\n",
    "5. [Выводы](#5.)"
   ]
  },
  {
   "cell_type": "markdown",
   "metadata": {},
   "source": [
    "<a name=\"0.\"></a>\n",
    "## 0. Описание проекта [↑](#Содержание)"
   ]
  },
  {
   "cell_type": "markdown",
   "metadata": {},
   "source": [
    "«Чат с менеджером» представляет собой онлайн-чат на сайте, подобный JivoSite. Основной задачей менеджера является консультация посетителя об особенностях товара (сложный технический товар). Требуется оценить влияние чата на конверсию, найти инсайты в пути клиента до покупки."
   ]
  },
  {
   "cell_type": "markdown",
   "metadata": {},
   "source": [
    "#### Описание данных [↑](#Содержание)"
   ]
  },
  {
   "cell_type": "markdown",
   "metadata": {},
   "source": [
    "Датасет состоит из 154788 записей, где каждая запись - одно событие.  Данные собирались с 25.07.2019 по 05.08.2019\n",
    "В датасете собрана информация о регистрируемых событиях, их дате и тестовой группе, к которой отнесен UID."
   ]
  },
  {
   "cell_type": "markdown",
   "metadata": {},
   "source": [
    "Описание данных **ab_log.csv:**  \n",
    "**`event`** — событие  \n",
    "**`user_id`** — id пользователя  \n",
    "**`EventTime`** — время события  \n",
    "**`Group`** — группа события\n",
    "  \n",
    "Значения колонки **Group**:  \n",
    "**`A1`** — контрольная группа  \n",
    "**`A2`** — контрольная группа  \n",
    "**`B`** `— экспериментальная группа  "
   ]
  },
  {
   "cell_type": "markdown",
   "metadata": {},
   "source": [
    "#### Импорт библиотек [↑](#Содержание)"
   ]
  },
  {
   "cell_type": "code",
   "execution_count": 44,
   "metadata": {},
   "outputs": [],
   "source": [
    "import pandas as pd\n",
    "import numpy as np\n",
    "from datetime import datetime\n",
    "\n",
    "import matplotlib.pyplot as plt\n",
    "import seaborn as sns\n",
    "\n",
    "import plotly.express as px\n",
    "from plotly.subplots import make_subplots\n",
    "import plotly.graph_objects as go\n",
    "\n",
    "import math as mth\n",
    "from scipy import stats as st\n",
    "\n",
    "import warnings\n",
    "warnings.simplefilter(action='ignore', category=FutureWarning)"
   ]
  },
  {
   "cell_type": "markdown",
   "metadata": {},
   "source": [
    "<a name=\"1.\"></a>\n",
    "### 1. Загрузка датасета, первичный осмотр [↑](#Содержание)"
   ]
  },
  {
   "cell_type": "code",
   "execution_count": 45,
   "metadata": {},
   "outputs": [],
   "source": [
    "path = 'C:/Users/sergey/desktop/'\n",
    "df = pd.read_csv(path + 'ab_log.csv')"
   ]
  },
  {
   "cell_type": "code",
   "execution_count": 46,
   "metadata": {},
   "outputs": [
    {
     "data": {
      "text/html": [
       "<div>\n",
       "<style scoped>\n",
       "    .dataframe tbody tr th:only-of-type {\n",
       "        vertical-align: middle;\n",
       "    }\n",
       "\n",
       "    .dataframe tbody tr th {\n",
       "        vertical-align: top;\n",
       "    }\n",
       "\n",
       "    .dataframe thead th {\n",
       "        text-align: right;\n",
       "    }\n",
       "</style>\n",
       "<table border=\"1\" class=\"dataframe\">\n",
       "  <thead>\n",
       "    <tr style=\"text-align: right;\">\n",
       "      <th></th>\n",
       "      <th>event</th>\n",
       "      <th>user_id</th>\n",
       "      <th>EventTime</th>\n",
       "      <th>Group</th>\n",
       "    </tr>\n",
       "  </thead>\n",
       "  <tbody>\n",
       "    <tr>\n",
       "      <th>0</th>\n",
       "      <td>StartReadingOffer</td>\n",
       "      <td>7241586465170049200</td>\n",
       "      <td>1564978321</td>\n",
       "      <td>A2</td>\n",
       "    </tr>\n",
       "    <tr>\n",
       "      <th>1</th>\n",
       "      <td>OpenProductCard</td>\n",
       "      <td>4998498972125515821</td>\n",
       "      <td>1564678223</td>\n",
       "      <td>A2</td>\n",
       "    </tr>\n",
       "    <tr>\n",
       "      <th>2</th>\n",
       "      <td>StartReadingOffer</td>\n",
       "      <td>5794343176311717876</td>\n",
       "      <td>1564681595</td>\n",
       "      <td>B</td>\n",
       "    </tr>\n",
       "  </tbody>\n",
       "</table>\n",
       "</div>"
      ],
      "text/plain": [
       "               event              user_id   EventTime Group\n",
       "0  StartReadingOffer  7241586465170049200  1564978321    A2\n",
       "1    OpenProductCard  4998498972125515821  1564678223    A2\n",
       "2  StartReadingOffer  5794343176311717876  1564681595     B"
      ]
     },
     "execution_count": 46,
     "metadata": {},
     "output_type": "execute_result"
    }
   ],
   "source": [
    "df.head(3)"
   ]
  },
  {
   "cell_type": "code",
   "execution_count": 47,
   "metadata": {},
   "outputs": [
    {
     "name": "stdout",
     "output_type": "stream",
     "text": [
      "<class 'pandas.core.frame.DataFrame'>\n",
      "RangeIndex: 154788 entries, 0 to 154787\n",
      "Data columns (total 4 columns):\n",
      "event        154788 non-null object\n",
      "user_id      154788 non-null int64\n",
      "EventTime    154788 non-null int64\n",
      "Group        154788 non-null object\n",
      "dtypes: int64(2), object(2)\n",
      "memory usage: 4.7+ MB\n"
     ]
    }
   ],
   "source": [
    "df.info()"
   ]
  },
  {
   "cell_type": "markdown",
   "metadata": {},
   "source": [
    "В датафрейме отсутствуют аномальные значения (со знаком минус и пр.), категорийные значения имеют однотипное написание, каждому UID соответствует одна группа.\n",
    "Наблюдаются проблемы:\n",
    "  - колонка `eventtime` приведена к типу `int`, переведем её в `datetime`\n",
    "  - переименуем для удобства названия колонок\n",
    "  - найдены полные дубликаты"
   ]
  },
  {
   "cell_type": "markdown",
   "metadata": {},
   "source": [
    "<a name=\"2.\"></a>\n",
    "### 2. Предобработка данных [↑](#Содержание)"
   ]
  },
  {
   "cell_type": "code",
   "execution_count": 48,
   "metadata": {},
   "outputs": [],
   "source": [
    "# переименуем столбцы\n",
    "df.columns = ['event', 'userid', 'eventtime', 'group']"
   ]
  },
  {
   "cell_type": "code",
   "execution_count": 49,
   "metadata": {},
   "outputs": [],
   "source": [
    "# приведем колонку eventtime к типу datetime\n",
    "df['eventtime'] = pd.to_datetime(df['eventtime'], unit='s')\n",
    "# создадим новый столбец с датой\n",
    "df['date'] = df['eventtime'].dt.date\n",
    "df['date'] = pd.to_datetime(df['date'])"
   ]
  },
  {
   "cell_type": "code",
   "execution_count": 50,
   "metadata": {},
   "outputs": [
    {
     "name": "stdout",
     "output_type": "stream",
     "text": [
      "Всего найдено дубликатов: 296\n",
      "Дубликаты составляют 0.19% от общей длины датафрейма\n"
     ]
    },
    {
     "data": {
      "text/html": [
       "<div>\n",
       "<style scoped>\n",
       "    .dataframe tbody tr th:only-of-type {\n",
       "        vertical-align: middle;\n",
       "    }\n",
       "\n",
       "    .dataframe tbody tr th {\n",
       "        vertical-align: top;\n",
       "    }\n",
       "\n",
       "    .dataframe thead th {\n",
       "        text-align: right;\n",
       "    }\n",
       "</style>\n",
       "<table border=\"1\" class=\"dataframe\">\n",
       "  <thead>\n",
       "    <tr style=\"text-align: right;\">\n",
       "      <th></th>\n",
       "      <th>event</th>\n",
       "      <th>userid</th>\n",
       "      <th>eventtime</th>\n",
       "      <th>group</th>\n",
       "      <th>date</th>\n",
       "    </tr>\n",
       "  </thead>\n",
       "  <tbody>\n",
       "    <tr>\n",
       "      <th>5217</th>\n",
       "      <td>StartCheckProduct</td>\n",
       "      <td>33176906335348434</td>\n",
       "      <td>2019-08-04 16:06:03</td>\n",
       "      <td>B</td>\n",
       "      <td>2019-08-04</td>\n",
       "    </tr>\n",
       "    <tr>\n",
       "      <th>80036</th>\n",
       "      <td>StartCheckProduct</td>\n",
       "      <td>33176906335348434</td>\n",
       "      <td>2019-08-04 16:06:03</td>\n",
       "      <td>B</td>\n",
       "      <td>2019-08-04</td>\n",
       "    </tr>\n",
       "    <tr>\n",
       "      <th>38754</th>\n",
       "      <td>StartReadingOffer</td>\n",
       "      <td>33176906335348434</td>\n",
       "      <td>2019-08-04 15:54:35</td>\n",
       "      <td>B</td>\n",
       "      <td>2019-08-04</td>\n",
       "    </tr>\n",
       "    <tr>\n",
       "      <th>142894</th>\n",
       "      <td>StartReadingOffer</td>\n",
       "      <td>33176906335348434</td>\n",
       "      <td>2019-08-04 15:54:35</td>\n",
       "      <td>B</td>\n",
       "      <td>2019-08-04</td>\n",
       "    </tr>\n",
       "  </tbody>\n",
       "</table>\n",
       "</div>"
      ],
      "text/plain": [
       "                    event             userid           eventtime group  \\\n",
       "5217    StartCheckProduct  33176906335348434 2019-08-04 16:06:03     B   \n",
       "80036   StartCheckProduct  33176906335348434 2019-08-04 16:06:03     B   \n",
       "38754   StartReadingOffer  33176906335348434 2019-08-04 15:54:35     B   \n",
       "142894  StartReadingOffer  33176906335348434 2019-08-04 15:54:35     B   \n",
       "\n",
       "             date  \n",
       "5217   2019-08-04  \n",
       "80036  2019-08-04  \n",
       "38754  2019-08-04  \n",
       "142894 2019-08-04  "
      ]
     },
     "execution_count": 50,
     "metadata": {},
     "output_type": "execute_result"
    }
   ],
   "source": [
    "print(\"Всего найдено дубликатов: {}\".format(df.duplicated().sum()))\n",
    "print(\"Дубликаты составляют {:.2%} от общей длины датафрейма\".format(df.duplicated().sum() / len(df)))\n",
    "df[df.duplicated(keep=False)].sort_values(by=['userid', 'event']).head(4)"
   ]
  },
  {
   "cell_type": "code",
   "execution_count": 51,
   "metadata": {},
   "outputs": [],
   "source": [
    "# удалим дубликаты\n",
    "df.drop_duplicates(inplace=True)"
   ]
  },
  {
   "cell_type": "markdown",
   "metadata": {},
   "source": [
    "------------"
   ]
  },
  {
   "cell_type": "markdown",
   "metadata": {},
   "source": [
    "Посмотрим на распределение `eventtime`"
   ]
  },
  {
   "cell_type": "code",
   "execution_count": 52,
   "metadata": {},
   "outputs": [
    {
     "data": {
      "text/plain": [
       "<matplotlib.axes._subplots.AxesSubplot at 0x200612a3be0>"
      ]
     },
     "execution_count": 52,
     "metadata": {},
     "output_type": "execute_result"
    },
    {
     "data": {
      "image/png": "[encoded data removed]",
      "text/plain": [
       "<Figure size 864x360 with 1 Axes>"
      ]
     },
     "metadata": {
      "needs_background": "light"
     },
     "output_type": "display_data"
    }
   ],
   "source": [
    "df['eventtime'].hist(figsize=(12,5), bins=100)"
   ]
  },
  {
   "cell_type": "markdown",
   "metadata": {},
   "source": [
    "Видим, что с 25 июля по 1 августа записей значительно меньше, по сравнению с последующим периодом. Это может быть связано с техническими проблемами. За 5 августа данные присутсвуют лишь за половину дня.  \n",
    "Сделаем слудующее:\n",
    "  - посмотрим сколько уникальных UID содержится в период до 1 августа, чтобы понять объем данных, которые мы потенциально потеряем\n",
    "  - исключим все записи до 1 августа и после 4 августа. Причем, создадим список UID, которые встречались до 01.08 и удалим их из последующего периода, так как по данным пользователям могла некорректно записываться информация (сессии  до 01.08 могли оказать влияние на сессии в выбранный период).\n",
    "  - записи после 04.08 удалим без удаления событий UID, которые приходятся на период 01.08.2019 - 04.08.2019"
   ]
  },
  {
   "cell_type": "code",
   "execution_count": 53,
   "metadata": {
    "scrolled": false
   },
   "outputs": [
    {
     "data": {
      "text/html": [
       "<div>\n",
       "<style scoped>\n",
       "    .dataframe tbody tr th:only-of-type {\n",
       "        vertical-align: middle;\n",
       "    }\n",
       "\n",
       "    .dataframe tbody tr th {\n",
       "        vertical-align: top;\n",
       "    }\n",
       "\n",
       "    .dataframe thead th {\n",
       "        text-align: right;\n",
       "    }\n",
       "</style>\n",
       "<table border=\"1\" class=\"dataframe\">\n",
       "  <thead>\n",
       "    <tr style=\"text-align: right;\">\n",
       "      <th></th>\n",
       "      <th>Уникальные ID</th>\n",
       "      <th>События</th>\n",
       "      <th>Количество событий / ID</th>\n",
       "    </tr>\n",
       "    <tr>\n",
       "      <th></th>\n",
       "      <th></th>\n",
       "      <th></th>\n",
       "      <th></th>\n",
       "    </tr>\n",
       "  </thead>\n",
       "  <tbody>\n",
       "    <tr>\n",
       "      <th>Период 25.07.2019-01.08.2019 (исключаемые данные)</th>\n",
       "      <td>1448</td>\n",
       "      <td>2814</td>\n",
       "      <td>2</td>\n",
       "    </tr>\n",
       "    <tr>\n",
       "      <th>Период 01.08.2019-04.08.2019</th>\n",
       "      <td>6553</td>\n",
       "      <td>137901</td>\n",
       "      <td>21</td>\n",
       "    </tr>\n",
       "    <tr>\n",
       "      <th>\"Чистые данные\" 01.08.2019-04.08.2019</th>\n",
       "      <td>5192</td>\n",
       "      <td>104439</td>\n",
       "      <td>20</td>\n",
       "    </tr>\n",
       "    <tr>\n",
       "      <th>\"Исключенные данные\"</th>\n",
       "      <td>1361</td>\n",
       "      <td>33462</td>\n",
       "      <td>25</td>\n",
       "    </tr>\n",
       "    <tr>\n",
       "      <th>Всего</th>\n",
       "      <td>6805</td>\n",
       "      <td>154492</td>\n",
       "      <td>23</td>\n",
       "    </tr>\n",
       "  </tbody>\n",
       "</table>\n",
       "</div>"
      ],
      "text/plain": [
       "                                                   Уникальные ID  События  \\\n",
       "                                                                            \n",
       "Период 25.07.2019-01.08.2019 (исключаемые данные)           1448     2814   \n",
       "Период 01.08.2019-04.08.2019                                6553   137901   \n",
       "\"Чистые данные\" 01.08.2019-04.08.2019                       5192   104439   \n",
       "\"Исключенные данные\"                                        1361    33462   \n",
       "Всего                                                       6805   154492   \n",
       "\n",
       "                                                   Количество событий / ID  \n",
       "                                                                            \n",
       "Период 25.07.2019-01.08.2019 (исключаемые данные)                        2  \n",
       "Период 01.08.2019-04.08.2019                                            21  \n",
       "\"Чистые данные\" 01.08.2019-04.08.2019                                   20  \n",
       "\"Исключенные данные\"                                                    25  \n",
       "Всего                                                                   23  "
      ]
     },
     "execution_count": 53,
     "metadata": {},
     "output_type": "execute_result"
    }
   ],
   "source": [
    "# Период 25.07.2019-01.08.2019\n",
    "unique_id_abnormal_period = df.query('\"2019-08-01\" > date')[['userid']].nunique()['userid']\n",
    "events_abnormal_period = df.query('\"2019-08-01\" > date')[['event']].count()['event']\n",
    "events_per_unique_id_abnormal_period = (events_abnormal_period / unique_id_abnormal_period).round(0).astype('int')\n",
    "\n",
    "# Период 01.08.2019-04.08.2019 до очистки\n",
    "unique_id_normal_period = df.query('(\"2019-08-01\" <= date <= \"2019-08-04\")')[['userid']].nunique()['userid']\n",
    "events_normal_period = df.query('(\"2019-08-01\" <= date <= \"2019-08-04\")')[['event']].count()['event']\n",
    "events_per_unique_id_normal_period = (events_normal_period / unique_id_normal_period).round(0).astype('int')\n",
    "\n",
    "# ВСЕГО\n",
    "unique_id = df['userid'].nunique()\n",
    "events_all = df['event'].count()\n",
    "events_per_unique_id_all = (events_all / unique_id).round(0).astype('int')\n",
    "\n",
    "# создаем список всех ID присутствовавших до 01.08.2019\n",
    "drop_id_list = df.query('\"2019-08-01\" > date')['userid'].unique()\n",
    "# исключаем из датасета лист с данными ID\n",
    "df_tidy = df[np.logical_not(df['userid'].isin(drop_id_list))]\n",
    "\n",
    "# \"Чистые данные\"\n",
    "tidy_unique_id = df_tidy.query('(\"2019-08-01\" <= date <= \"2019-08-04\")')[['userid']].nunique()['userid']\n",
    "tidy_events = df_tidy.query('(\"2019-08-01\" <= date <= \"2019-08-04\")')[['event']].count()['event']\n",
    "tidy_events_per_unique_id = (tidy_events / tidy_unique_id).round(0).astype('int')\n",
    "\n",
    "# \"Исключенные\" данные\n",
    "del_unique_id = unique_id_normal_period - tidy_unique_id\n",
    "del_events = events_normal_period - tidy_events\n",
    "del_events_per_unique_id = (del_events / del_unique_id).round(0).astype('int')\n",
    "\n",
    "# Таблица\n",
    "df_stats_periods = {'': ['Период 25.07.2019-01.08.2019 (исключаемые данные)', 'Период 01.08.2019-04.08.2019', '\"Чистые данные\" 01.08.2019-04.08.2019','\"Исключенные данные\"', \"Всего\"],\\\n",
    "                         'Уникальные ID': [unique_id_abnormal_period, unique_id_normal_period, tidy_unique_id, del_unique_id, unique_id],\\\n",
    "                         'События': [events_abnormal_period, events_normal_period, tidy_events, del_events, events_all],\\\n",
    "                         'Количество событий / ID': [events_per_unique_id_abnormal_period, events_per_unique_id_normal_period, tidy_events_per_unique_id, del_events_per_unique_id, events_per_unique_id_all]}\n",
    "\n",
    "df_stats = pd.DataFrame(data=df_stats_periods).set_index('')\n",
    "df_stats.head()"
   ]
  },
  {
   "cell_type": "markdown",
   "metadata": {},
   "source": [
    "- в исключаемом периоде 25.07.2019-01.08.2019 видно значительно меньшее количество событий, приходящихся на 1 юзера. Вероятно, не все события записывались.\n",
    "- исключено 1361 USERID, что составляет 20% от общего числа USERID.\n",
    "- при исключении данных в выбранном периоде количество событий на 1 юзера сократилось с 21 до 20. Это значит, что исключенные USERID имели события, приходящихся и на \"чистый период\".\n",
    "- более 90% USERID исключаемого периода встречаются в период 01.08.2019 - 04.08.2019. Это значит, что для пользователей характерно заходить несколько раз в неделю."
   ]
  },
  {
   "cell_type": "code",
   "execution_count": 54,
   "metadata": {},
   "outputs": [
    {
     "name": "stdout",
     "output_type": "stream",
     "text": [
      "Исключено 1361 (20%) уникальных USERID, и 33462 (22%) событий.\n"
     ]
    }
   ],
   "source": [
    "print(\"Исключено {} ({:.0%}) уникальных USERID, и {} ({:.0%}) событий.\".format(del_unique_id, (del_unique_id / unique_id),\\\n",
    "                                                                del_events, (del_events / events_all)))\n"
   ]
  },
  {
   "cell_type": "markdown",
   "metadata": {},
   "source": [
    "Возможности оставить эти данные нет, так как в этом случае в \"чистых данных\" будут юзеры, которые уже могли пройти часть воронки. Результаты теста могут сместиться.  \n",
    "Также удалим данные за 05.08.2019, но не будем исключать эти UID из \"чистого периода\". Удалить данные записи стоит, так как они собраны лишь за половину дня."
   ]
  },
  {
   "cell_type": "code",
   "execution_count": 55,
   "metadata": {},
   "outputs": [],
   "source": [
    "df = df_tidy[df_tidy['date'] != \"2019-08-05\"].copy()"
   ]
  },
  {
   "cell_type": "markdown",
   "metadata": {},
   "source": [
    "<a name=\"3.\"></a>\n",
    "### 3. Исследовательский анализ данных [↑](#Содержание)"
   ]
  },
  {
   "cell_type": "markdown",
   "metadata": {},
   "source": [
    "<a name=\"3.1.\"></a>\n",
    "#### 3.1. Воронка событий [↑](#Содержание)"
   ]
  },
  {
   "cell_type": "code",
   "execution_count": 56,
   "metadata": {},
   "outputs": [
    {
     "data": {
      "text/html": [
       "<div>\n",
       "<style scoped>\n",
       "    .dataframe tbody tr th:only-of-type {\n",
       "        vertical-align: middle;\n",
       "    }\n",
       "\n",
       "    .dataframe tbody tr th {\n",
       "        vertical-align: top;\n",
       "    }\n",
       "\n",
       "    .dataframe thead th {\n",
       "        text-align: right;\n",
       "    }\n",
       "</style>\n",
       "<table border=\"1\" class=\"dataframe\">\n",
       "  <thead>\n",
       "    <tr style=\"text-align: right;\">\n",
       "      <th></th>\n",
       "      <th>userid</th>\n",
       "    </tr>\n",
       "    <tr>\n",
       "      <th>event</th>\n",
       "      <th></th>\n",
       "    </tr>\n",
       "  </thead>\n",
       "  <tbody>\n",
       "    <tr>\n",
       "      <th>StartReadingOffer</th>\n",
       "      <td>5082</td>\n",
       "    </tr>\n",
       "    <tr>\n",
       "      <th>StartCheckProduct</th>\n",
       "      <td>3073</td>\n",
       "    </tr>\n",
       "    <tr>\n",
       "      <th>OpenPaymentScreen</th>\n",
       "      <td>2607</td>\n",
       "    </tr>\n",
       "    <tr>\n",
       "      <th>OpenProductCard</th>\n",
       "      <td>2484</td>\n",
       "    </tr>\n",
       "  </tbody>\n",
       "</table>\n",
       "</div>"
      ],
      "text/plain": [
       "                   userid\n",
       "event                    \n",
       "StartReadingOffer    5082\n",
       "StartCheckProduct    3073\n",
       "OpenPaymentScreen    2607\n",
       "OpenProductCard      2484"
      ]
     },
     "execution_count": 56,
     "metadata": {},
     "output_type": "execute_result"
    }
   ],
   "source": [
    "df.groupby('event').agg({'userid':'nunique'}).sort_values('userid', ascending=False)"
   ]
  },
  {
   "cell_type": "markdown",
   "metadata": {},
   "source": [
    "Воронка продаж проиходит таким образом:  \n",
    "   -  **`StartReadingOffer`** -   просмотр предложения, стартовая страница\n",
    "   -  **`StartCheckProduct`** -   изучение продукта\n",
    "   -  **`OpenProductCard`** -  открытие страницы корзины\n",
    "   -  **`OpenPaymentScreen`** - открытие страницы оплаты"
   ]
  },
  {
   "cell_type": "markdown",
   "metadata": {},
   "source": [
    "<a name=\"3.2.\"></a>\n",
    "#### 3.2. Связанная воронка событий [↑](#Содержание)"
   ]
  },
  {
   "cell_type": "markdown",
   "metadata": {},
   "source": [
    "Создадим таблицу, где для каждого USERID выделим минимальное время каждого из событий, а затем проследим количество юзеров, которые последовательно проходят по шагам."
   ]
  },
  {
   "cell_type": "code",
   "execution_count": 57,
   "metadata": {},
   "outputs": [
    {
     "data": {
      "text/html": [
       "<div>\n",
       "<style scoped>\n",
       "    .dataframe tbody tr th:only-of-type {\n",
       "        vertical-align: middle;\n",
       "    }\n",
       "\n",
       "    .dataframe tbody tr th {\n",
       "        vertical-align: top;\n",
       "    }\n",
       "\n",
       "    .dataframe thead th {\n",
       "        text-align: right;\n",
       "    }\n",
       "</style>\n",
       "<table border=\"1\" class=\"dataframe\">\n",
       "  <thead>\n",
       "    <tr style=\"text-align: right;\">\n",
       "      <th></th>\n",
       "      <th>events</th>\n",
       "      <th>unique_id</th>\n",
       "    </tr>\n",
       "  </thead>\n",
       "  <tbody>\n",
       "    <tr>\n",
       "      <th>0</th>\n",
       "      <td>StartReadingOffer</td>\n",
       "      <td>5082</td>\n",
       "    </tr>\n",
       "    <tr>\n",
       "      <th>1</th>\n",
       "      <td>StartCheckProduct</td>\n",
       "      <td>2790</td>\n",
       "    </tr>\n",
       "    <tr>\n",
       "      <th>2</th>\n",
       "      <td>OpenProductCard</td>\n",
       "      <td>1124</td>\n",
       "    </tr>\n",
       "    <tr>\n",
       "      <th>3</th>\n",
       "      <td>OpenPaymentScreen</td>\n",
       "      <td>657</td>\n",
       "    </tr>\n",
       "  </tbody>\n",
       "</table>\n",
       "</div>"
      ],
      "text/plain": [
       "              events  unique_id\n",
       "0  StartReadingOffer       5082\n",
       "1  StartCheckProduct       2790\n",
       "2    OpenProductCard       1124\n",
       "3  OpenPaymentScreen        657"
      ]
     },
     "execution_count": 57,
     "metadata": {},
     "output_type": "execute_result"
    }
   ],
   "source": [
    "# сделаем сводную таблицу, в которой отобразим для каждого USERID минимальное время каждого из событий\n",
    "df_pivot = df.pivot_table(index='userid', columns='event', values = 'eventtime', aggfunc='min') \\\n",
    "                                       .reset_index() \\\n",
    "# создадим фильтры, в которых каждое последующее событие у юзера будет позже, чем время предыдущего события\n",
    "level_1 = df_pivot['StartReadingOffer'].notnull()\n",
    "level_2 = level_1 & (df_pivot['StartReadingOffer'] <= df_pivot['StartCheckProduct'])\n",
    "level_3 = level_2 & (df_pivot['StartCheckProduct'] <= df_pivot['OpenProductCard'])\n",
    "level_4 = level_3 & (df_pivot['OpenProductCard'] <= df_pivot['OpenPaymentScreen'])\n",
    "\n",
    "# значение каждого из событий\n",
    "StartReadingOffer = df_pivot[level_1].shape[0]\n",
    "StartCheckProduct = df_pivot[level_2].shape[0]\n",
    "OpenProductCard = df_pivot[level_3].shape[0]\n",
    "OpenPaymentScreen = df_pivot[level_4].shape[0]\n",
    "\n",
    "# создаем таблицу\n",
    "funnel = pd.DataFrame({'events': ['StartReadingOffer', 'StartCheckProduct',  'OpenProductCard', 'OpenPaymentScreen'], \\\n",
    "                      'unique_id': [StartReadingOffer, StartCheckProduct, OpenProductCard, OpenPaymentScreen]})\n",
    "\n",
    "funnel.head()"
   ]
  },
  {
   "cell_type": "code",
   "execution_count": 58,
   "metadata": {
    "scrolled": false
   },
   "outputs": [
    {
     "data": {
      "application/vnd.plotly.v1+json": {
       "config": {
        "plotlyServerURL": "https://plot.ly"
       },
       "data": [
        {
         "connector": {
          "line": {
           "color": "royalblue",
           "dash": "dot",
           "width": 3
          }
         },
         "marker": {
          "color": [
           "deepskyblue",
           "lightsalmon",
           "tan",
           "teal",
           "silver"
          ],
          "line": {
           "color": [
            "wheat",
            "wheat",
            "blue",
            "wheat",
            "wheat"
           ],
           "width": [
            4,
            2,
            2,
            3,
            1,
            1
           ]
          }
         },
         "opacity": 0.65,
         "textinfo": "value+percent initial",
         "textposition": "inside",
         "type": "funnel",
         "x": [
          5082,
          2790,
          1124,
          657
         ],
         "y": [
          "StartReadingOffer",
          "StartCheckProduct",
          "OpenProductCard",
          "OpenPaymentScreen"
         ]
        }
       ],
       "layout": {
        "template": {
         "data": {
          "bar": [
           {
            "error_x": {
             "color": "#2a3f5f"
            },
            "error_y": {
             "color": "#2a3f5f"
            },
            "marker": {
             "line": {
              "color": "#E5ECF6",
              "width": 0.5
             }
            },
            "type": "bar"
           }
          ],
          "barpolar": [
           {
            "marker": {
             "line": {
              "color": "#E5ECF6",
              "width": 0.5
             }
            },
            "type": "barpolar"
           }
          ],
          "carpet": [
           {
            "aaxis": {
             "endlinecolor": "#2a3f5f",
             "gridcolor": "white",
             "linecolor": "white",
             "minorgridcolor": "white",
             "startlinecolor": "#2a3f5f"
            },
            "baxis": {
             "endlinecolor": "#2a3f5f",
             "gridcolor": "white",
             "linecolor": "white",
             "minorgridcolor": "white",
             "startlinecolor": "#2a3f5f"
            },
            "type": "carpet"
           }
          ],
          "choropleth": [
           {
            "colorbar": {
             "outlinewidth": 0,
             "ticks": ""
            },
            "type": "choropleth"
           }
          ],
          "contour": [
           {
            "colorbar": {
             "outlinewidth": 0,
             "ticks": ""
            },
            "colorscale": [
             [
              0,
              "#0d0887"
             ],
             [
              0.1111111111111111,
              "#46039f"
             ],
             [
              0.2222222222222222,
              "#7201a8"
             ],
             [
              0.3333333333333333,
              "#9c179e"
             ],
             [
              0.4444444444444444,
              "#bd3786"
             ],
             [
              0.5555555555555556,
              "#d8576b"
             ],
             [
              0.6666666666666666,
              "#ed7953"
             ],
             [
              0.7777777777777778,
              "#fb9f3a"
             ],
             [
              0.8888888888888888,
              "#fdca26"
             ],
             [
              1,
              "#f0f921"
             ]
            ],
            "type": "contour"
           }
          ],
          "contourcarpet": [
           {
            "colorbar": {
             "outlinewidth": 0,
             "ticks": ""
            },
            "type": "contourcarpet"
           }
          ],
          "heatmap": [
           {
            "colorbar": {
             "outlinewidth": 0,
             "ticks": ""
            },
            "colorscale": [
             [
              0,
              "#0d0887"
             ],
             [
              0.1111111111111111,
              "#46039f"
             ],
             [
              0.2222222222222222,
              "#7201a8"
             ],
             [
              0.3333333333333333,
              "#9c179e"
             ],
             [
              0.4444444444444444,
              "#bd3786"
             ],
             [
              0.5555555555555556,
              "#d8576b"
             ],
             [
              0.6666666666666666,
              "#ed7953"
             ],
             [
              0.7777777777777778,
              "#fb9f3a"
             ],
             [
              0.8888888888888888,
              "#fdca26"
             ],
             [
              1,
              "#f0f921"
             ]
            ],
            "type": "heatmap"
           }
          ],
          "heatmapgl": [
           {
            "colorbar": {
             "outlinewidth": 0,
             "ticks": ""
            },
            "colorscale": [
             [
              0,
              "#0d0887"
             ],
             [
              0.1111111111111111,
              "#46039f"
             ],
             [
              0.2222222222222222,
              "#7201a8"
             ],
             [
              0.3333333333333333,
              "#9c179e"
             ],
             [
              0.4444444444444444,
              "#bd3786"
             ],
             [
              0.5555555555555556,
              "#d8576b"
             ],
             [
              0.6666666666666666,
              "#ed7953"
             ],
             [
              0.7777777777777778,
              "#fb9f3a"
             ],
             [
              0.8888888888888888,
              "#fdca26"
             ],
             [
              1,
              "#f0f921"
             ]
            ],
            "type": "heatmapgl"
           }
          ],
          "histogram": [
           {
            "marker": {
             "colorbar": {
              "outlinewidth": 0,
              "ticks": ""
             }
            },
            "type": "histogram"
           }
          ],
          "histogram2d": [
           {
            "colorbar": {
             "outlinewidth": 0,
             "ticks": ""
            },
            "colorscale": [
             [
              0,
              "#0d0887"
             ],
             [
              0.1111111111111111,
              "#46039f"
             ],
             [
              0.2222222222222222,
              "#7201a8"
             ],
             [
              0.3333333333333333,
              "#9c179e"
             ],
             [
              0.4444444444444444,
              "#bd3786"
             ],
             [
              0.5555555555555556,
              "#d8576b"
             ],
             [
              0.6666666666666666,
              "#ed7953"
             ],
             [
              0.7777777777777778,
              "#fb9f3a"
             ],
             [
              0.8888888888888888,
              "#fdca26"
             ],
             [
              1,
              "#f0f921"
             ]
            ],
            "type": "histogram2d"
           }
          ],
          "histogram2dcontour": [
           {
            "colorbar": {
             "outlinewidth": 0,
             "ticks": ""
            },
            "colorscale": [
             [
              0,
              "#0d0887"
             ],
             [
              0.1111111111111111,
              "#46039f"
             ],
             [
              0.2222222222222222,
              "#7201a8"
             ],
             [
              0.3333333333333333,
              "#9c179e"
             ],
             [
              0.4444444444444444,
              "#bd3786"
             ],
             [
              0.5555555555555556,
              "#d8576b"
             ],
             [
              0.6666666666666666,
              "#ed7953"
             ],
             [
              0.7777777777777778,
              "#fb9f3a"
             ],
             [
              0.8888888888888888,
              "#fdca26"
             ],
             [
              1,
              "#f0f921"
             ]
            ],
            "type": "histogram2dcontour"
           }
          ],
          "mesh3d": [
           {
            "colorbar": {
             "outlinewidth": 0,
             "ticks": ""
            },
            "type": "mesh3d"
           }
          ],
          "parcoords": [
           {
            "line": {
             "colorbar": {
              "outlinewidth": 0,
              "ticks": ""
             }
            },
            "type": "parcoords"
           }
          ],
          "pie": [
           {
            "automargin": true,
            "type": "pie"
           }
          ],
          "scatter": [
           {
            "marker": {
             "colorbar": {
              "outlinewidth": 0,
              "ticks": ""
             }
            },
            "type": "scatter"
           }
          ],
          "scatter3d": [
           {
            "line": {
             "colorbar": {
              "outlinewidth": 0,
              "ticks": ""
             }
            },
            "marker": {
             "colorbar": {
              "outlinewidth": 0,
              "ticks": ""
             }
            },
            "type": "scatter3d"
           }
          ],
          "scattercarpet": [
           {
            "marker": {
             "colorbar": {
              "outlinewidth": 0,
              "ticks": ""
             }
            },
            "type": "scattercarpet"
           }
          ],
          "scattergeo": [
           {
            "marker": {
             "colorbar": {
              "outlinewidth": 0,
              "ticks": ""
             }
            },
            "type": "scattergeo"
           }
          ],
          "scattergl": [
           {
            "marker": {
             "colorbar": {
              "outlinewidth": 0,
              "ticks": ""
             }
            },
            "type": "scattergl"
           }
          ],
          "scattermapbox": [
           {
            "marker": {
             "colorbar": {
              "outlinewidth": 0,
              "ticks": ""
             }
            },
            "type": "scattermapbox"
           }
          ],
          "scatterpolar": [
           {
            "marker": {
             "colorbar": {
              "outlinewidth": 0,
              "ticks": ""
             }
            },
            "type": "scatterpolar"
           }
          ],
          "scatterpolargl": [
           {
            "marker": {
             "colorbar": {
              "outlinewidth": 0,
              "ticks": ""
             }
            },
            "type": "scatterpolargl"
           }
          ],
          "scatterternary": [
           {
            "marker": {
             "colorbar": {
              "outlinewidth": 0,
              "ticks": ""
             }
            },
            "type": "scatterternary"
           }
          ],
          "surface": [
           {
            "colorbar": {
             "outlinewidth": 0,
             "ticks": ""
            },
            "colorscale": [
             [
              0,
              "#0d0887"
             ],
             [
              0.1111111111111111,
              "#46039f"
             ],
             [
              0.2222222222222222,
              "#7201a8"
             ],
             [
              0.3333333333333333,
              "#9c179e"
             ],
             [
              0.4444444444444444,
              "#bd3786"
             ],
             [
              0.5555555555555556,
              "#d8576b"
             ],
             [
              0.6666666666666666,
              "#ed7953"
             ],
             [
              0.7777777777777778,
              "#fb9f3a"
             ],
             [
              0.8888888888888888,
              "#fdca26"
             ],
             [
              1,
              "#f0f921"
             ]
            ],
            "type": "surface"
           }
          ],
          "table": [
           {
            "cells": {
             "fill": {
              "color": "#EBF0F8"
             },
             "line": {
              "color": "white"
             }
            },
            "header": {
             "fill": {
              "color": "#C8D4E3"
             },
             "line": {
              "color": "white"
             }
            },
            "type": "table"
           }
          ]
         },
         "layout": {
          "annotationdefaults": {
           "arrowcolor": "#2a3f5f",
           "arrowhead": 0,
           "arrowwidth": 1
          },
          "coloraxis": {
           "colorbar": {
            "outlinewidth": 0,
            "ticks": ""
           }
          },
          "colorscale": {
           "diverging": [
            [
             0,
             "#8e0152"
            ],
            [
             0.1,
             "#c51b7d"
            ],
            [
             0.2,
             "#de77ae"
            ],
            [
             0.3,
             "#f1b6da"
            ],
            [
             0.4,
             "#fde0ef"
            ],
            [
             0.5,
             "#f7f7f7"
            ],
            [
             0.6,
             "#e6f5d0"
            ],
            [
             0.7,
             "#b8e186"
            ],
            [
             0.8,
             "#7fbc41"
            ],
            [
             0.9,
             "#4d9221"
            ],
            [
             1,
             "#276419"
            ]
           ],
           "sequential": [
            [
             0,
             "#0d0887"
            ],
            [
             0.1111111111111111,
             "#46039f"
            ],
            [
             0.2222222222222222,
             "#7201a8"
            ],
            [
             0.3333333333333333,
             "#9c179e"
            ],
            [
             0.4444444444444444,
             "#bd3786"
            ],
            [
             0.5555555555555556,
             "#d8576b"
            ],
            [
             0.6666666666666666,
             "#ed7953"
            ],
            [
             0.7777777777777778,
             "#fb9f3a"
            ],
            [
             0.8888888888888888,
             "#fdca26"
            ],
            [
             1,
             "#f0f921"
            ]
           ],
           "sequentialminus": [
            [
             0,
             "#0d0887"
            ],
            [
             0.1111111111111111,
             "#46039f"
            ],
            [
             0.2222222222222222,
             "#7201a8"
            ],
            [
             0.3333333333333333,
             "#9c179e"
            ],
            [
             0.4444444444444444,
             "#bd3786"
            ],
            [
             0.5555555555555556,
             "#d8576b"
            ],
            [
             0.6666666666666666,
             "#ed7953"
            ],
            [
             0.7777777777777778,
             "#fb9f3a"
            ],
            [
             0.8888888888888888,
             "#fdca26"
            ],
            [
             1,
             "#f0f921"
            ]
           ]
          },
          "colorway": [
           "#636efa",
           "#EF553B",
           "#00cc96",
           "#ab63fa",
           "#FFA15A",
           "#19d3f3",
           "#FF6692",
           "#B6E880",
           "#FF97FF",
           "#FECB52"
          ],
          "font": {
           "color": "#2a3f5f"
          },
          "geo": {
           "bgcolor": "white",
           "lakecolor": "white",
           "landcolor": "#E5ECF6",
           "showlakes": true,
           "showland": true,
           "subunitcolor": "white"
          },
          "hoverlabel": {
           "align": "left"
          },
          "hovermode": "closest",
          "mapbox": {
           "style": "light"
          },
          "paper_bgcolor": "white",
          "plot_bgcolor": "#E5ECF6",
          "polar": {
           "angularaxis": {
            "gridcolor": "white",
            "linecolor": "white",
            "ticks": ""
           },
           "bgcolor": "#E5ECF6",
           "radialaxis": {
            "gridcolor": "white",
            "linecolor": "white",
            "ticks": ""
           }
          },
          "scene": {
           "xaxis": {
            "backgroundcolor": "#E5ECF6",
            "gridcolor": "white",
            "gridwidth": 2,
            "linecolor": "white",
            "showbackground": true,
            "ticks": "",
            "zerolinecolor": "white"
           },
           "yaxis": {
            "backgroundcolor": "#E5ECF6",
            "gridcolor": "white",
            "gridwidth": 2,
            "linecolor": "white",
            "showbackground": true,
            "ticks": "",
            "zerolinecolor": "white"
           },
           "zaxis": {
            "backgroundcolor": "#E5ECF6",
            "gridcolor": "white",
            "gridwidth": 2,
            "linecolor": "white",
            "showbackground": true,
            "ticks": "",
            "zerolinecolor": "white"
           }
          },
          "shapedefaults": {
           "line": {
            "color": "#2a3f5f"
           }
          },
          "ternary": {
           "aaxis": {
            "gridcolor": "white",
            "linecolor": "white",
            "ticks": ""
           },
           "baxis": {
            "gridcolor": "white",
            "linecolor": "white",
            "ticks": ""
           },
           "bgcolor": "#E5ECF6",
           "caxis": {
            "gridcolor": "white",
            "linecolor": "white",
            "ticks": ""
           }
          },
          "title": {
           "x": 0.05
          },
          "xaxis": {
           "automargin": true,
           "gridcolor": "white",
           "linecolor": "white",
           "ticks": "",
           "title": {
            "standoff": 15
           },
           "zerolinecolor": "white",
           "zerolinewidth": 2
          },
          "yaxis": {
           "automargin": true,
           "gridcolor": "white",
           "linecolor": "white",
           "ticks": "",
           "title": {
            "standoff": 15
           },
           "zerolinecolor": "white",
           "zerolinewidth": 2
          }
         }
        }
       }
      },
      "text/html": [
       "<div>\n",
       "        \n",
       "        \n",
       "            <div id=\"520c23c9-f1c4-4653-8db7-3cda299cf26f\" class=\"plotly-graph-div\" style=\"height:525px; width:100%;\"></div>\n",
       "            <script type=\"text/javascript\">\n",
       "                require([\"plotly\"], function(Plotly) {\n",
       "                    window.PLOTLYENV=window.PLOTLYENV || {};\n",
       "                    \n",
       "                if (document.getElementById(\"520c23c9-f1c4-4653-8db7-3cda299cf26f\")) {\n",
       "                    Plotly.newPlot(\n",
       "                        '520c23c9-f1c4-4653-8db7-3cda299cf26f',\n",
       "                        [{\"connector\": {\"line\": {\"color\": \"royalblue\", \"dash\": \"dot\", \"width\": 3}}, \"marker\": {\"color\": [\"deepskyblue\", \"lightsalmon\", \"tan\", \"teal\", \"silver\"], \"line\": {\"color\": [\"wheat\", \"wheat\", \"blue\", \"wheat\", \"wheat\"], \"width\": [4, 2, 2, 3, 1, 1]}}, \"opacity\": 0.65, \"textinfo\": \"value+percent initial\", \"textposition\": \"inside\", \"type\": \"funnel\", \"x\": [5082, 2790, 1124, 657], \"y\": [\"StartReadingOffer\", \"StartCheckProduct\", \"OpenProductCard\", \"OpenPaymentScreen\"]}],\n",
       "                        {\"template\": {\"data\": {\"bar\": [{\"error_x\": {\"color\": \"#2a3f5f\"}, \"error_y\": {\"color\": \"#2a3f5f\"}, \"marker\": {\"line\": {\"color\": \"#E5ECF6\", \"width\": 0.5}}, \"type\": \"bar\"}], \"barpolar\": [{\"marker\": {\"line\": {\"color\": \"#E5ECF6\", \"width\": 0.5}}, \"type\": \"barpolar\"}], \"carpet\": [{\"aaxis\": {\"endlinecolor\": \"#2a3f5f\", \"gridcolor\": \"white\", \"linecolor\": \"white\", \"minorgridcolor\": \"white\", \"startlinecolor\": \"#2a3f5f\"}, \"baxis\": {\"endlinecolor\": \"#2a3f5f\", \"gridcolor\": \"white\", \"linecolor\": \"white\", \"minorgridcolor\": \"white\", \"startlinecolor\": \"#2a3f5f\"}, \"type\": \"carpet\"}], \"choropleth\": [{\"colorbar\": {\"outlinewidth\": 0, \"ticks\": \"\"}, \"type\": \"choropleth\"}], \"contour\": [{\"colorbar\": {\"outlinewidth\": 0, \"ticks\": \"\"}, \"colorscale\": [[0.0, \"#0d0887\"], [0.1111111111111111, \"#46039f\"], [0.2222222222222222, \"#7201a8\"], [0.3333333333333333, \"#9c179e\"], [0.4444444444444444, \"#bd3786\"], [0.5555555555555556, \"#d8576b\"], [0.6666666666666666, \"#ed7953\"], [0.7777777777777778, \"#fb9f3a\"], [0.8888888888888888, \"#fdca26\"], [1.0, \"#f0f921\"]], \"type\": \"contour\"}], \"contourcarpet\": [{\"colorbar\": {\"outlinewidth\": 0, \"ticks\": \"\"}, \"type\": \"contourcarpet\"}], \"heatmap\": [{\"colorbar\": {\"outlinewidth\": 0, \"ticks\": \"\"}, \"colorscale\": [[0.0, \"#0d0887\"], [0.1111111111111111, \"#46039f\"], [0.2222222222222222, \"#7201a8\"], [0.3333333333333333, \"#9c179e\"], [0.4444444444444444, \"#bd3786\"], [0.5555555555555556, \"#d8576b\"], [0.6666666666666666, \"#ed7953\"], [0.7777777777777778, \"#fb9f3a\"], [0.8888888888888888, \"#fdca26\"], [1.0, \"#f0f921\"]], \"type\": \"heatmap\"}], \"heatmapgl\": [{\"colorbar\": {\"outlinewidth\": 0, \"ticks\": \"\"}, \"colorscale\": [[0.0, \"#0d0887\"], [0.1111111111111111, \"#46039f\"], [0.2222222222222222, \"#7201a8\"], [0.3333333333333333, \"#9c179e\"], [0.4444444444444444, \"#bd3786\"], [0.5555555555555556, \"#d8576b\"], [0.6666666666666666, \"#ed7953\"], [0.7777777777777778, \"#fb9f3a\"], [0.8888888888888888, \"#fdca26\"], [1.0, \"#f0f921\"]], \"type\": \"heatmapgl\"}], \"histogram\": [{\"marker\": {\"colorbar\": {\"outlinewidth\": 0, \"ticks\": \"\"}}, \"type\": \"histogram\"}], \"histogram2d\": [{\"colorbar\": {\"outlinewidth\": 0, \"ticks\": \"\"}, \"colorscale\": [[0.0, \"#0d0887\"], [0.1111111111111111, \"#46039f\"], [0.2222222222222222, \"#7201a8\"], [0.3333333333333333, \"#9c179e\"], [0.4444444444444444, \"#bd3786\"], [0.5555555555555556, \"#d8576b\"], [0.6666666666666666, \"#ed7953\"], [0.7777777777777778, \"#fb9f3a\"], [0.8888888888888888, \"#fdca26\"], [1.0, \"#f0f921\"]], \"type\": \"histogram2d\"}], \"histogram2dcontour\": [{\"colorbar\": {\"outlinewidth\": 0, \"ticks\": \"\"}, \"colorscale\": [[0.0, \"#0d0887\"], [0.1111111111111111, \"#46039f\"], [0.2222222222222222, \"#7201a8\"], [0.3333333333333333, \"#9c179e\"], [0.4444444444444444, \"#bd3786\"], [0.5555555555555556, \"#d8576b\"], [0.6666666666666666, \"#ed7953\"], [0.7777777777777778, \"#fb9f3a\"], [0.8888888888888888, \"#fdca26\"], [1.0, \"#f0f921\"]], \"type\": \"histogram2dcontour\"}], \"mesh3d\": [{\"colorbar\": {\"outlinewidth\": 0, \"ticks\": \"\"}, \"type\": \"mesh3d\"}], \"parcoords\": [{\"line\": {\"colorbar\": {\"outlinewidth\": 0, \"ticks\": \"\"}}, \"type\": \"parcoords\"}], \"pie\": [{\"automargin\": true, \"type\": \"pie\"}], \"scatter\": [{\"marker\": {\"colorbar\": {\"outlinewidth\": 0, \"ticks\": \"\"}}, \"type\": \"scatter\"}], \"scatter3d\": [{\"line\": {\"colorbar\": {\"outlinewidth\": 0, \"ticks\": \"\"}}, \"marker\": {\"colorbar\": {\"outlinewidth\": 0, \"ticks\": \"\"}}, \"type\": \"scatter3d\"}], \"scattercarpet\": [{\"marker\": {\"colorbar\": {\"outlinewidth\": 0, \"ticks\": \"\"}}, \"type\": \"scattercarpet\"}], \"scattergeo\": [{\"marker\": {\"colorbar\": {\"outlinewidth\": 0, \"ticks\": \"\"}}, \"type\": \"scattergeo\"}], \"scattergl\": [{\"marker\": {\"colorbar\": {\"outlinewidth\": 0, \"ticks\": \"\"}}, \"type\": \"scattergl\"}], \"scattermapbox\": [{\"marker\": {\"colorbar\": {\"outlinewidth\": 0, \"ticks\": \"\"}}, \"type\": \"scattermapbox\"}], \"scatterpolar\": [{\"marker\": {\"colorbar\": {\"outlinewidth\": 0, \"ticks\": \"\"}}, \"type\": \"scatterpolar\"}], \"scatterpolargl\": [{\"marker\": {\"colorbar\": {\"outlinewidth\": 0, \"ticks\": \"\"}}, \"type\": \"scatterpolargl\"}], \"scatterternary\": [{\"marker\": {\"colorbar\": {\"outlinewidth\": 0, \"ticks\": \"\"}}, \"type\": \"scatterternary\"}], \"surface\": [{\"colorbar\": {\"outlinewidth\": 0, \"ticks\": \"\"}, \"colorscale\": [[0.0, \"#0d0887\"], [0.1111111111111111, \"#46039f\"], [0.2222222222222222, \"#7201a8\"], [0.3333333333333333, \"#9c179e\"], [0.4444444444444444, \"#bd3786\"], [0.5555555555555556, \"#d8576b\"], [0.6666666666666666, \"#ed7953\"], [0.7777777777777778, \"#fb9f3a\"], [0.8888888888888888, \"#fdca26\"], [1.0, \"#f0f921\"]], \"type\": \"surface\"}], \"table\": [{\"cells\": {\"fill\": {\"color\": \"#EBF0F8\"}, \"line\": {\"color\": \"white\"}}, \"header\": {\"fill\": {\"color\": \"#C8D4E3\"}, \"line\": {\"color\": \"white\"}}, \"type\": \"table\"}]}, \"layout\": {\"annotationdefaults\": {\"arrowcolor\": \"#2a3f5f\", \"arrowhead\": 0, \"arrowwidth\": 1}, \"coloraxis\": {\"colorbar\": {\"outlinewidth\": 0, \"ticks\": \"\"}}, \"colorscale\": {\"diverging\": [[0, \"#8e0152\"], [0.1, \"#c51b7d\"], [0.2, \"#de77ae\"], [0.3, \"#f1b6da\"], [0.4, \"#fde0ef\"], [0.5, \"#f7f7f7\"], [0.6, \"#e6f5d0\"], [0.7, \"#b8e186\"], [0.8, \"#7fbc41\"], [0.9, \"#4d9221\"], [1, \"#276419\"]], \"sequential\": [[0.0, \"#0d0887\"], [0.1111111111111111, \"#46039f\"], [0.2222222222222222, \"#7201a8\"], [0.3333333333333333, \"#9c179e\"], [0.4444444444444444, \"#bd3786\"], [0.5555555555555556, \"#d8576b\"], [0.6666666666666666, \"#ed7953\"], [0.7777777777777778, \"#fb9f3a\"], [0.8888888888888888, \"#fdca26\"], [1.0, \"#f0f921\"]], \"sequentialminus\": [[0.0, \"#0d0887\"], [0.1111111111111111, \"#46039f\"], [0.2222222222222222, \"#7201a8\"], [0.3333333333333333, \"#9c179e\"], [0.4444444444444444, \"#bd3786\"], [0.5555555555555556, \"#d8576b\"], [0.6666666666666666, \"#ed7953\"], [0.7777777777777778, \"#fb9f3a\"], [0.8888888888888888, \"#fdca26\"], [1.0, \"#f0f921\"]]}, \"colorway\": [\"#636efa\", \"#EF553B\", \"#00cc96\", \"#ab63fa\", \"#FFA15A\", \"#19d3f3\", \"#FF6692\", \"#B6E880\", \"#FF97FF\", \"#FECB52\"], \"font\": {\"color\": \"#2a3f5f\"}, \"geo\": {\"bgcolor\": \"white\", \"lakecolor\": \"white\", \"landcolor\": \"#E5ECF6\", \"showlakes\": true, \"showland\": true, \"subunitcolor\": \"white\"}, \"hoverlabel\": {\"align\": \"left\"}, \"hovermode\": \"closest\", \"mapbox\": {\"style\": \"light\"}, \"paper_bgcolor\": \"white\", \"plot_bgcolor\": \"#E5ECF6\", \"polar\": {\"angularaxis\": {\"gridcolor\": \"white\", \"linecolor\": \"white\", \"ticks\": \"\"}, \"bgcolor\": \"#E5ECF6\", \"radialaxis\": {\"gridcolor\": \"white\", \"linecolor\": \"white\", \"ticks\": \"\"}}, \"scene\": {\"xaxis\": {\"backgroundcolor\": \"#E5ECF6\", \"gridcolor\": \"white\", \"gridwidth\": 2, \"linecolor\": \"white\", \"showbackground\": true, \"ticks\": \"\", \"zerolinecolor\": \"white\"}, \"yaxis\": {\"backgroundcolor\": \"#E5ECF6\", \"gridcolor\": \"white\", \"gridwidth\": 2, \"linecolor\": \"white\", \"showbackground\": true, \"ticks\": \"\", \"zerolinecolor\": \"white\"}, \"zaxis\": {\"backgroundcolor\": \"#E5ECF6\", \"gridcolor\": \"white\", \"gridwidth\": 2, \"linecolor\": \"white\", \"showbackground\": true, \"ticks\": \"\", \"zerolinecolor\": \"white\"}}, \"shapedefaults\": {\"line\": {\"color\": \"#2a3f5f\"}}, \"ternary\": {\"aaxis\": {\"gridcolor\": \"white\", \"linecolor\": \"white\", \"ticks\": \"\"}, \"baxis\": {\"gridcolor\": \"white\", \"linecolor\": \"white\", \"ticks\": \"\"}, \"bgcolor\": \"#E5ECF6\", \"caxis\": {\"gridcolor\": \"white\", \"linecolor\": \"white\", \"ticks\": \"\"}}, \"title\": {\"x\": 0.05}, \"xaxis\": {\"automargin\": true, \"gridcolor\": \"white\", \"linecolor\": \"white\", \"ticks\": \"\", \"title\": {\"standoff\": 15}, \"zerolinecolor\": \"white\", \"zerolinewidth\": 2}, \"yaxis\": {\"automargin\": true, \"gridcolor\": \"white\", \"linecolor\": \"white\", \"ticks\": \"\", \"title\": {\"standoff\": 15}, \"zerolinecolor\": \"white\", \"zerolinewidth\": 2}}}},\n",
       "                        {\"responsive\": true}\n",
       "                    ).then(function(){\n",
       "                            \n",
       "var gd = document.getElementById('520c23c9-f1c4-4653-8db7-3cda299cf26f');\n",
       "var x = new MutationObserver(function (mutations, observer) {{\n",
       "        var display = window.getComputedStyle(gd).display;\n",
       "        if (!display || display === 'none') {{\n",
       "            console.log([gd, 'removed!']);\n",
       "            Plotly.purge(gd);\n",
       "            observer.disconnect();\n",
       "        }}\n",
       "}});\n",
       "\n",
       "// Listen for the removal of the full notebook cells\n",
       "var notebookContainer = gd.closest('#notebook-container');\n",
       "if (notebookContainer) {{\n",
       "    x.observe(notebookContainer, {childList: true});\n",
       "}}\n",
       "\n",
       "// Listen for the clearing of the current output cell\n",
       "var outputEl = gd.closest('.output');\n",
       "if (outputEl) {{\n",
       "    x.observe(outputEl, {childList: true});\n",
       "}}\n",
       "\n",
       "                        })\n",
       "                };\n",
       "                });\n",
       "            </script>\n",
       "        </div>"
      ]
     },
     "metadata": {},
     "output_type": "display_data"
    }
   ],
   "source": [
    "# строим воронку\n",
    "fig = go.Figure(go.Funnel(\n",
    "    y = funnel['events'],\n",
    "    x = funnel['unique_id'],\n",
    "    textposition = \"inside\",\n",
    "    textinfo = \"value+percent initial\",\n",
    "    opacity = 0.65, marker = {\"color\": [\"deepskyblue\", \"lightsalmon\", \"tan\", \"teal\", \"silver\"],\n",
    "    \"line\": {\"width\": [4, 2, 2, 3, 1, 1], \"color\": [\"wheat\", \"wheat\", \"blue\", \"wheat\", \"wheat\"]}},\n",
    "    connector = {\"line\": {\"color\": \"royalblue\", \"dash\": \"dot\", \"width\": 3}})\n",
    "    )\n",
    "\n",
    "fig.show()"
   ]
  },
  {
   "cell_type": "markdown",
   "metadata": {},
   "source": [
    "- общая конверсия составляет 13%  \n",
    "- минимальная конверсия происходит на шаге **`StartCheckProduct`** -> **`OpenProductCard`**, составляет 40%\n",
    "- на других шагах колеблется от 55% до 59%"
   ]
  },
  {
   "cell_type": "markdown",
   "metadata": {},
   "source": [
    "-------------"
   ]
  },
  {
   "cell_type": "markdown",
   "metadata": {},
   "source": [
    "<a name=\"3.3.\"></a>\n",
    "#### 3.3. Несвязанная воронка событий [↑](#Содержание)"
   ]
  },
  {
   "cell_type": "code",
   "execution_count": 59,
   "metadata": {},
   "outputs": [
    {
     "data": {
      "text/html": [
       "<div>\n",
       "<style scoped>\n",
       "    .dataframe tbody tr th:only-of-type {\n",
       "        vertical-align: middle;\n",
       "    }\n",
       "\n",
       "    .dataframe tbody tr th {\n",
       "        vertical-align: top;\n",
       "    }\n",
       "\n",
       "    .dataframe thead th {\n",
       "        text-align: right;\n",
       "    }\n",
       "</style>\n",
       "<table border=\"1\" class=\"dataframe\">\n",
       "  <thead>\n",
       "    <tr style=\"text-align: right;\">\n",
       "      <th></th>\n",
       "      <th>event</th>\n",
       "      <th>count_events</th>\n",
       "      <th>unique_id</th>\n",
       "      <th>ratio_id_from_StartReadingOffer</th>\n",
       "      <th>ratio_id_all</th>\n",
       "      <th>ratio_from_previous</th>\n",
       "    </tr>\n",
       "  </thead>\n",
       "  <tbody>\n",
       "    <tr>\n",
       "      <th>0</th>\n",
       "      <td>StartReadingOffer</td>\n",
       "      <td>48628</td>\n",
       "      <td>5082</td>\n",
       "      <td>100.00%</td>\n",
       "      <td>38.37%</td>\n",
       "      <td>100%</td>\n",
       "    </tr>\n",
       "    <tr>\n",
       "      <th>1</th>\n",
       "      <td>StartCheckProduct</td>\n",
       "      <td>20822</td>\n",
       "      <td>3073</td>\n",
       "      <td>60.47%</td>\n",
       "      <td>23.20%</td>\n",
       "      <td>60%</td>\n",
       "    </tr>\n",
       "    <tr>\n",
       "      <th>2</th>\n",
       "      <td>OpenProductCard</td>\n",
       "      <td>19202</td>\n",
       "      <td>2484</td>\n",
       "      <td>48.88%</td>\n",
       "      <td>18.75%</td>\n",
       "      <td>81%</td>\n",
       "    </tr>\n",
       "    <tr>\n",
       "      <th>3</th>\n",
       "      <td>OpenPaymentScreen</td>\n",
       "      <td>15787</td>\n",
       "      <td>2607</td>\n",
       "      <td>51.30%</td>\n",
       "      <td>19.68%</td>\n",
       "      <td>105%</td>\n",
       "    </tr>\n",
       "  </tbody>\n",
       "</table>\n",
       "</div>"
      ],
      "text/plain": [
       "               event  count_events  unique_id ratio_id_from_StartReadingOffer  \\\n",
       "0  StartReadingOffer         48628       5082                         100.00%   \n",
       "1  StartCheckProduct         20822       3073                          60.47%   \n",
       "2    OpenProductCard         19202       2484                          48.88%   \n",
       "3  OpenPaymentScreen         15787       2607                          51.30%   \n",
       "\n",
       "  ratio_id_all ratio_from_previous  \n",
       "0       38.37%                100%  \n",
       "1       23.20%                 60%  \n",
       "2       18.75%                 81%  \n",
       "3       19.68%                105%  "
      ]
     },
     "execution_count": 59,
     "metadata": {},
     "output_type": "execute_result"
    }
   ],
   "source": [
    "# сгруппируем данные\n",
    "events_stats = df.groupby('event')\\\n",
    "                                     .agg({'event': 'count', 'userid':'nunique'})\\\n",
    "                                     .rename({'event':'count_events', 'userid': 'unique_id'}, axis=1)\\\n",
    "                                     .sort_values('count_events', ascending=False)\\\n",
    "                                     .reset_index()\n",
    "# добавим столбцы процентного соотношения\n",
    "events_stats['ratio_id_from_StartReadingOffer'] = (events_stats['unique_id'] / events_stats['unique_id'][0])\\\n",
    "                                                                            .apply(lambda x: '{:.2%}'.format(x))\n",
    "\n",
    "events_stats['ratio_id_all'] = (events_stats['unique_id'] / events_stats['unique_id'].sum())\\\n",
    "                                                                            .apply(lambda x: '{:.2%}'.format(x))\n",
    "\n",
    "pct_change=[100]\n",
    "for j in range(1,len(events_stats['unique_id'])):\n",
    "    pct_change.append(int(round(events_stats['unique_id'][j]/events_stats['unique_id'][j-1]*100)))\n",
    "events_stats['ratio_from_previous'] = pct_change\n",
    "events_stats['ratio_from_previous'] = events_stats['ratio_from_previous'].apply(lambda x: '{}%'.format(x))\n",
    "events_stats.head()"
   ]
  },
  {
   "cell_type": "markdown",
   "metadata": {},
   "source": [
    "- конверсия для несвязанной конверсии выше - 51,3%\n",
    "- по результатам очевидно, что часть клиентов пропускают некоторые из шагов."
   ]
  },
  {
   "cell_type": "markdown",
   "metadata": {},
   "source": [
    "<a name=\"3.4.\"></a>\n",
    "#### 3.4. Исследование различий в тестовых группах [↑](#Содержание)"
   ]
  },
  {
   "cell_type": "code",
   "execution_count": 60,
   "metadata": {},
   "outputs": [
    {
     "data": {
      "text/html": [
       "<div>\n",
       "<style scoped>\n",
       "    .dataframe tbody tr th:only-of-type {\n",
       "        vertical-align: middle;\n",
       "    }\n",
       "\n",
       "    .dataframe tbody tr th {\n",
       "        vertical-align: top;\n",
       "    }\n",
       "\n",
       "    .dataframe thead th {\n",
       "        text-align: right;\n",
       "    }\n",
       "</style>\n",
       "<table border=\"1\" class=\"dataframe\">\n",
       "  <thead>\n",
       "    <tr style=\"text-align: right;\">\n",
       "      <th></th>\n",
       "      <th></th>\n",
       "      <th>event</th>\n",
       "      <th>userid</th>\n",
       "      <th>ratio_event_uniq</th>\n",
       "    </tr>\n",
       "    <tr>\n",
       "      <th>date</th>\n",
       "      <th>group</th>\n",
       "      <th></th>\n",
       "      <th></th>\n",
       "      <th></th>\n",
       "    </tr>\n",
       "  </thead>\n",
       "  <tbody>\n",
       "    <tr>\n",
       "      <th rowspan=\"3\" valign=\"top\">2019-08-01</th>\n",
       "      <th>A1</th>\n",
       "      <td>9016</td>\n",
       "      <td>985</td>\n",
       "      <td>9.15</td>\n",
       "    </tr>\n",
       "    <tr>\n",
       "      <th>A2</th>\n",
       "      <td>8140</td>\n",
       "      <td>929</td>\n",
       "      <td>8.76</td>\n",
       "    </tr>\n",
       "    <tr>\n",
       "      <th>B</th>\n",
       "      <td>9194</td>\n",
       "      <td>919</td>\n",
       "      <td>10.00</td>\n",
       "    </tr>\n",
       "    <tr>\n",
       "      <th rowspan=\"3\" valign=\"top\">2019-08-02</th>\n",
       "      <th>A1</th>\n",
       "      <td>8246</td>\n",
       "      <td>940</td>\n",
       "      <td>8.77</td>\n",
       "    </tr>\n",
       "    <tr>\n",
       "      <th>A2</th>\n",
       "      <td>8325</td>\n",
       "      <td>950</td>\n",
       "      <td>8.76</td>\n",
       "    </tr>\n",
       "    <tr>\n",
       "      <th>B</th>\n",
       "      <td>10682</td>\n",
       "      <td>934</td>\n",
       "      <td>11.44</td>\n",
       "    </tr>\n",
       "    <tr>\n",
       "      <th rowspan=\"3\" valign=\"top\">2019-08-03</th>\n",
       "      <th>A1</th>\n",
       "      <td>8608</td>\n",
       "      <td>911</td>\n",
       "      <td>9.45</td>\n",
       "    </tr>\n",
       "    <tr>\n",
       "      <th>A2</th>\n",
       "      <td>7548</td>\n",
       "      <td>889</td>\n",
       "      <td>8.49</td>\n",
       "    </tr>\n",
       "    <tr>\n",
       "      <th>B</th>\n",
       "      <td>9136</td>\n",
       "      <td>914</td>\n",
       "      <td>10.00</td>\n",
       "    </tr>\n",
       "    <tr>\n",
       "      <th rowspan=\"3\" valign=\"top\">2019-08-04</th>\n",
       "      <th>A1</th>\n",
       "      <td>7468</td>\n",
       "      <td>904</td>\n",
       "      <td>8.26</td>\n",
       "    </tr>\n",
       "    <tr>\n",
       "      <th>A2</th>\n",
       "      <td>8739</td>\n",
       "      <td>933</td>\n",
       "      <td>9.37</td>\n",
       "    </tr>\n",
       "    <tr>\n",
       "      <th>B</th>\n",
       "      <td>9337</td>\n",
       "      <td>929</td>\n",
       "      <td>10.05</td>\n",
       "    </tr>\n",
       "  </tbody>\n",
       "</table>\n",
       "</div>"
      ],
      "text/plain": [
       "                  event  userid  ratio_event_uniq\n",
       "date       group                                 \n",
       "2019-08-01 A1      9016     985              9.15\n",
       "           A2      8140     929              8.76\n",
       "           B       9194     919             10.00\n",
       "2019-08-02 A1      8246     940              8.77\n",
       "           A2      8325     950              8.76\n",
       "           B      10682     934             11.44\n",
       "2019-08-03 A1      8608     911              9.45\n",
       "           A2      7548     889              8.49\n",
       "           B       9136     914             10.00\n",
       "2019-08-04 A1      7468     904              8.26\n",
       "           A2      8739     933              9.37\n",
       "           B       9337     929             10.05"
      ]
     },
     "execution_count": 60,
     "metadata": {},
     "output_type": "execute_result"
    }
   ],
   "source": [
    "check_groups = df.groupby(['date', 'group']).agg({'event':'count','userid':'nunique'})\n",
    "check_groups['ratio_event_uniq'] = (check_groups['event'] / check_groups['userid']).round(2)\n",
    "check_groups"
   ]
  },
  {
   "cell_type": "markdown",
   "metadata": {},
   "source": [
    "При разбиении по дням и группам видно, что разбиение по количеству UID примерно равное. Отмечаются особенности:\n",
    "  \n",
    "- среднее количество событий на пользователя колеблется в диапозоне 8-9,5 на юзера, тогда как по полным данным оно составляет около 20. Это значит, что пользователи чаще всего осуществляют покупку в течение более, чем 1 день.\n",
    "\n",
    "- в группе B во все дни эксперимента наблюдается повышенное отношение событий на пользователя, в сравнении с другими группами."
   ]
  },
  {
   "cell_type": "code",
   "execution_count": 61,
   "metadata": {},
   "outputs": [
    {
     "data": {
      "text/html": [
       "<div>\n",
       "<style scoped>\n",
       "    .dataframe tbody tr th:only-of-type {\n",
       "        vertical-align: middle;\n",
       "    }\n",
       "\n",
       "    .dataframe tbody tr th {\n",
       "        vertical-align: top;\n",
       "    }\n",
       "\n",
       "    .dataframe thead th {\n",
       "        text-align: right;\n",
       "    }\n",
       "</style>\n",
       "<table border=\"1\" class=\"dataframe\">\n",
       "  <thead>\n",
       "    <tr style=\"text-align: right;\">\n",
       "      <th></th>\n",
       "      <th></th>\n",
       "      <th>event</th>\n",
       "      <th>userid</th>\n",
       "      <th>event_uid</th>\n",
       "    </tr>\n",
       "    <tr>\n",
       "      <th>group</th>\n",
       "      <th>event</th>\n",
       "      <th></th>\n",
       "      <th></th>\n",
       "      <th></th>\n",
       "    </tr>\n",
       "  </thead>\n",
       "  <tbody>\n",
       "    <tr>\n",
       "      <th rowspan=\"4\" valign=\"top\">A1</th>\n",
       "      <th>OpenPaymentScreen</th>\n",
       "      <td>4810</td>\n",
       "      <td>865</td>\n",
       "      <td>5.560694</td>\n",
       "    </tr>\n",
       "    <tr>\n",
       "      <th>OpenProductCard</th>\n",
       "      <td>5778</td>\n",
       "      <td>822</td>\n",
       "      <td>7.029197</td>\n",
       "    </tr>\n",
       "    <tr>\n",
       "      <th>StartCheckProduct</th>\n",
       "      <td>6734</td>\n",
       "      <td>1018</td>\n",
       "      <td>6.614931</td>\n",
       "    </tr>\n",
       "    <tr>\n",
       "      <th>StartReadingOffer</th>\n",
       "      <td>16016</td>\n",
       "      <td>1699</td>\n",
       "      <td>9.426722</td>\n",
       "    </tr>\n",
       "    <tr>\n",
       "      <th rowspan=\"4\" valign=\"top\">A2</th>\n",
       "      <th>OpenPaymentScreen</th>\n",
       "      <td>4612</td>\n",
       "      <td>891</td>\n",
       "      <td>5.176207</td>\n",
       "    </tr>\n",
       "    <tr>\n",
       "      <th>OpenProductCard</th>\n",
       "      <td>5784</td>\n",
       "      <td>844</td>\n",
       "      <td>6.853081</td>\n",
       "    </tr>\n",
       "    <tr>\n",
       "      <th>StartCheckProduct</th>\n",
       "      <td>6477</td>\n",
       "      <td>1050</td>\n",
       "      <td>6.168571</td>\n",
       "    </tr>\n",
       "    <tr>\n",
       "      <th>StartReadingOffer</th>\n",
       "      <td>15879</td>\n",
       "      <td>1680</td>\n",
       "      <td>9.451786</td>\n",
       "    </tr>\n",
       "    <tr>\n",
       "      <th rowspan=\"4\" valign=\"top\">B</th>\n",
       "      <th>OpenPaymentScreen</th>\n",
       "      <td>6365</td>\n",
       "      <td>851</td>\n",
       "      <td>7.479436</td>\n",
       "    </tr>\n",
       "    <tr>\n",
       "      <th>OpenProductCard</th>\n",
       "      <td>7640</td>\n",
       "      <td>818</td>\n",
       "      <td>9.339853</td>\n",
       "    </tr>\n",
       "    <tr>\n",
       "      <th>StartCheckProduct</th>\n",
       "      <td>7611</td>\n",
       "      <td>1005</td>\n",
       "      <td>7.573134</td>\n",
       "    </tr>\n",
       "    <tr>\n",
       "      <th>StartReadingOffer</th>\n",
       "      <td>16733</td>\n",
       "      <td>1703</td>\n",
       "      <td>9.825602</td>\n",
       "    </tr>\n",
       "  </tbody>\n",
       "</table>\n",
       "</div>"
      ],
      "text/plain": [
       "                         event  userid  event_uid\n",
       "group event                                      \n",
       "A1    OpenPaymentScreen   4810     865   5.560694\n",
       "      OpenProductCard     5778     822   7.029197\n",
       "      StartCheckProduct   6734    1018   6.614931\n",
       "      StartReadingOffer  16016    1699   9.426722\n",
       "A2    OpenPaymentScreen   4612     891   5.176207\n",
       "      OpenProductCard     5784     844   6.853081\n",
       "      StartCheckProduct   6477    1050   6.168571\n",
       "      StartReadingOffer  15879    1680   9.451786\n",
       "B     OpenPaymentScreen   6365     851   7.479436\n",
       "      OpenProductCard     7640     818   9.339853\n",
       "      StartCheckProduct   7611    1005   7.573134\n",
       "      StartReadingOffer  16733    1703   9.825602"
      ]
     },
     "execution_count": 61,
     "metadata": {},
     "output_type": "execute_result"
    }
   ],
   "source": [
    "event_per_userid = df.groupby(['group', 'event']).agg({'event':'count','userid':'nunique'})\n",
    "event_per_userid['event_uid'] = event_per_userid['event'] / event_per_userid['userid']\n",
    "event_per_userid"
   ]
  },
  {
   "cell_type": "markdown",
   "metadata": {},
   "source": [
    "В группе B лишь незначительно выросло количество событий открытия стартовой страницы при ходящихся на 1 юзера. Значительно выросло количество последующих событий: изучения продукта, открытия коризны и открытие страницы оплаты."
   ]
  },
  {
   "cell_type": "markdown",
   "metadata": {},
   "source": [
    "-------"
   ]
  },
  {
   "cell_type": "markdown",
   "metadata": {},
   "source": [
    "**Рассмотрим распределение событий во времени (округление до часов)**"
   ]
  },
  {
   "cell_type": "code",
   "execution_count": 62,
   "metadata": {},
   "outputs": [
    {
     "data": {
      "text/plain": [
       "Text(0, 0.5, 'Количество событий')"
      ]
     },
     "execution_count": 62,
     "metadata": {},
     "output_type": "execute_result"
    },
    {
     "data": {
      "image/png": "[encoded data removed]",
      "text/plain": [
       "<Figure size 1080x432 with 1 Axes>"
      ]
     },
     "metadata": {
      "needs_background": "light"
     },
     "output_type": "display_data"
    }
   ],
   "source": [
    "# создадим колонку datetime, с округлением до 1 часа\n",
    "df['datetimehour'] = df['eventtime'].apply(lambda x: datetime(x.year, x.month, x.day, x.hour))\n",
    "# сгруппируем данные\n",
    "datetimehour_group = df.groupby(['event', 'datetimehour'], as_index=False)['userid'].count()\n",
    "\n",
    "# график\n",
    "plt.figure(figsize=(15, 6))\n",
    "ax = sns.lineplot(x=\"datetimehour\", y=\"userid\", hue = 'event', data=datetimehour_group)\n",
    "ax.set_title(\"График количества событий по времени\")\n",
    "ax.set_xlabel(\"Время\")\n",
    "ax.set_ylabel(\"Количество событий\")"
   ]
  },
  {
   "cell_type": "markdown",
   "metadata": {},
   "source": [
    "На графике наблюдается несколько интересных вещей:\n",
    "  - день недели не влияет на популярность сервиса (3 и 4 августа - выходные)\n",
    "  - на посещение влияет время суток, однако если днём `StartReadingOffer` значительно больше относительно других событий, то поздним вечером-ночью это соотношение значительно сокращается\n",
    "  - в ночь с 01-08-2019 на 02-08-2019 наблюдается картина, когда количество событий `OpenProductCard`, `OpenPaymentScreen` превышают `StartReadingOffer`. Пик поменьше виднеется и в ночь с 02-08-2019 на 03-08-2019"
   ]
  },
  {
   "cell_type": "markdown",
   "metadata": {},
   "source": [
    "----------"
   ]
  },
  {
   "cell_type": "markdown",
   "metadata": {},
   "source": [
    "**Рассмотрим соотношение событий по тестовым группам**"
   ]
  },
  {
   "cell_type": "code",
   "execution_count": 63,
   "metadata": {},
   "outputs": [
    {
     "data": {
      "text/plain": [
       "Text(0, 0.5, 'Количество событий')"
      ]
     },
     "execution_count": 63,
     "metadata": {},
     "output_type": "execute_result"
    },
    {
     "data": {
      "image/png": "[encoded data removed]",
      "text/plain": [
       "<Figure size 1080x432 with 1 Axes>"
      ]
     },
     "metadata": {
      "needs_background": "light"
     },
     "output_type": "display_data"
    }
   ],
   "source": [
    "yo = df.groupby(['group', 'datetimehour']).agg({'event':'count'}).reset_index()\n",
    "plt.figure(figsize=(15, 6))\n",
    "ax = sns.lineplot(x=\"datetimehour\", y=\"event\", hue = 'group', data=yo)\n",
    "ax.set_title(\"График количества событий по времени в разрезе тестовых групп\")\n",
    "ax.set_xlabel(\"Время\")\n",
    "ax.set_ylabel(\"Количество событий\")"
   ]
  },
  {
   "cell_type": "markdown",
   "metadata": {},
   "source": [
    "- пики событий группы B соотносятся по времени с пиками предыдущего графика\n",
    "- в целом в группе B наблюдается больше пиков и они более высокие в сравнении с другими группами"
   ]
  },
  {
   "cell_type": "markdown",
   "metadata": {},
   "source": [
    "-----"
   ]
  },
  {
   "cell_type": "markdown",
   "metadata": {},
   "source": [
    "**Рассмотрим график событий в группе B**"
   ]
  },
  {
   "cell_type": "code",
   "execution_count": 64,
   "metadata": {},
   "outputs": [
    {
     "data": {
      "text/plain": [
       "Text(0, 0.5, 'Количество событий')"
      ]
     },
     "execution_count": 64,
     "metadata": {},
     "output_type": "execute_result"
    },
    {
     "data": {
      "image/png": "[encoded data removed]",
      "text/plain": [
       "<Figure size 1080x432 with 1 Axes>"
      ]
     },
     "metadata": {
      "needs_background": "light"
     },
     "output_type": "display_data"
    }
   ],
   "source": [
    "yo = df[df['group'] == 'B'].groupby(['event', 'datetimehour']).agg({'userid':'count'}).reset_index()\n",
    "plt.figure(figsize=(15, 6)) # Важно! Этот код нужно писать до момента создания графика\n",
    "ax = sns.lineplot(x=\"datetimehour\", y=\"userid\", hue = 'event', data=yo)\n",
    "ax.set_title(\"График количества событий по времени в группе B\")\n",
    "ax.set_xlabel(\"Время\")\n",
    "ax.set_ylabel(\"Количество событий\")"
   ]
  },
  {
   "cell_type": "markdown",
   "metadata": {},
   "source": [
    "- помимо выше упомянутых ночных пиков видим значительные повышения событий `OpenProductCard` и `OpenPaymentScreen` 04-08-2019"
   ]
  },
  {
   "cell_type": "markdown",
   "metadata": {},
   "source": [
    "------------"
   ]
  },
  {
   "cell_type": "markdown",
   "metadata": {},
   "source": [
    "<a name=\"3.5.\"></a>\n",
    "#### 3.5. Конверсия в группах [↑](#Содержание)"
   ]
  },
  {
   "cell_type": "markdown",
   "metadata": {},
   "source": [
    "За конверсию будем считать количество уникальныз юзеров, дошедших до шага `OpenPaymentScreen` к общему количеству юзеров."
   ]
  },
  {
   "cell_type": "code",
   "execution_count": 65,
   "metadata": {},
   "outputs": [
    {
     "data": {
      "text/html": [
       "<div>\n",
       "<style scoped>\n",
       "    .dataframe tbody tr th:only-of-type {\n",
       "        vertical-align: middle;\n",
       "    }\n",
       "\n",
       "    .dataframe tbody tr th {\n",
       "        vertical-align: top;\n",
       "    }\n",
       "\n",
       "    .dataframe thead th {\n",
       "        text-align: right;\n",
       "    }\n",
       "</style>\n",
       "<table border=\"1\" class=\"dataframe\">\n",
       "  <thead>\n",
       "    <tr style=\"text-align: right;\">\n",
       "      <th></th>\n",
       "      <th>date</th>\n",
       "      <th>group</th>\n",
       "      <th>userid_unique</th>\n",
       "      <th>OpenPaymentScreen</th>\n",
       "      <th>conversion</th>\n",
       "    </tr>\n",
       "  </thead>\n",
       "  <tbody>\n",
       "    <tr>\n",
       "      <th>0</th>\n",
       "      <td>2019-08-01</td>\n",
       "      <td>A1</td>\n",
       "      <td>985</td>\n",
       "      <td>386</td>\n",
       "      <td>0.391878</td>\n",
       "    </tr>\n",
       "    <tr>\n",
       "      <th>1</th>\n",
       "      <td>2019-08-01</td>\n",
       "      <td>A2</td>\n",
       "      <td>929</td>\n",
       "      <td>371</td>\n",
       "      <td>0.399354</td>\n",
       "    </tr>\n",
       "    <tr>\n",
       "      <th>2</th>\n",
       "      <td>2019-08-01</td>\n",
       "      <td>B</td>\n",
       "      <td>919</td>\n",
       "      <td>384</td>\n",
       "      <td>0.417845</td>\n",
       "    </tr>\n",
       "    <tr>\n",
       "      <th>3</th>\n",
       "      <td>2019-08-02</td>\n",
       "      <td>A1</td>\n",
       "      <td>940</td>\n",
       "      <td>379</td>\n",
       "      <td>0.403191</td>\n",
       "    </tr>\n",
       "    <tr>\n",
       "      <th>4</th>\n",
       "      <td>2019-08-02</td>\n",
       "      <td>A2</td>\n",
       "      <td>950</td>\n",
       "      <td>402</td>\n",
       "      <td>0.423158</td>\n",
       "    </tr>\n",
       "  </tbody>\n",
       "</table>\n",
       "</div>"
      ],
      "text/plain": [
       "        date group  userid_unique  OpenPaymentScreen  conversion\n",
       "0 2019-08-01    A1            985                386    0.391878\n",
       "1 2019-08-01    A2            929                371    0.399354\n",
       "2 2019-08-01     B            919                384    0.417845\n",
       "3 2019-08-02    A1            940                379    0.403191\n",
       "4 2019-08-02    A2            950                402    0.423158"
      ]
     },
     "execution_count": 65,
     "metadata": {},
     "output_type": "execute_result"
    }
   ],
   "source": [
    "# сгруппируем данные по количеству уникальных посетителей и кол-во переходов на 'OpenPaymentScreen'\n",
    "# (на 1 уникального посетителя до 1 перехода)\n",
    "nunique = df.groupby(['date', 'group']).agg({'userid':'nunique'})\\\n",
    "                                       .reset_index()\\\n",
    "                                       .rename({'userid':'userid_unique'}, axis=1)\n",
    "\n",
    "event = df[df['event'] == \"OpenPaymentScreen\"].groupby(['date', 'group'])\\\n",
    "                                              .agg({'userid':'nunique'})\\\n",
    "                                              .reset_index()\\\n",
    "                                              .rename({'userid':'OpenPaymentScreen'}, axis=1)\n",
    "\n",
    "conversion = nunique.merge(event, on=['date', 'group'])\n",
    "\n",
    "conversion['conversion'] = conversion['OpenPaymentScreen'] / conversion['userid_unique']\n",
    "conversion.head()"
   ]
  },
  {
   "cell_type": "code",
   "execution_count": 66,
   "metadata": {
    "scrolled": true
   },
   "outputs": [
    {
     "data": {
      "text/plain": [
       "['2019-08-01', '2019-08-04', 0.36, 0.48]"
      ]
     },
     "execution_count": 66,
     "metadata": {},
     "output_type": "execute_result"
    },
    {
     "data": {
      "image/png": "[encoded data removed]",
      "text/plain": [
       "<Figure size 432x288 with 1 Axes>"
      ]
     },
     "metadata": {
      "needs_background": "light"
     },
     "output_type": "display_data"
    }
   ],
   "source": [
    "conversion_A1 = conversion.query('group == \"A1\"')\n",
    "conversion_A2 = conversion.query('group == \"A2\"')\n",
    "conversion_B = conversion.query('group == \"B\"')\n",
    "\n",
    "# строим график\n",
    "plt.plot(conversion_A1['date'], conversion_A1['conversion'], label='A')\n",
    "plt.plot(conversion_A2['date'], conversion_A2['conversion'], label='A2')\n",
    "plt.plot(conversion_B['date'], conversion_B['conversion'], label='B')\n",
    "\n",
    "plt.axhline(y=0, color='black', linestyle='--')\n",
    "plt.tick_params(axis='x', rotation=45)\n",
    "plt.grid()\n",
    "plt.legend()\n",
    "plt.axis([\"2019-08-01\", '2019-08-04', 0.36, 0.48])"
   ]
  },
  {
   "cell_type": "markdown",
   "metadata": {},
   "source": [
    "Конверсия в группе B выше в первый день, затем колеблется между A1 и A2. По графику нельзя сказать, что какая-либо из групп имеет более высокую конверсию по сравнению с другими."
   ]
  },
  {
   "cell_type": "markdown",
   "metadata": {},
   "source": [
    "<a name=\"4.\"></a>\n",
    "### 4. A/B тестирование [↑](#Содержание)"
   ]
  },
  {
   "cell_type": "code",
   "execution_count": 67,
   "metadata": {},
   "outputs": [
    {
     "data": {
      "text/html": [
       "<div>\n",
       "<style scoped>\n",
       "    .dataframe tbody tr th:only-of-type {\n",
       "        vertical-align: middle;\n",
       "    }\n",
       "\n",
       "    .dataframe tbody tr th {\n",
       "        vertical-align: top;\n",
       "    }\n",
       "\n",
       "    .dataframe thead th {\n",
       "        text-align: right;\n",
       "    }\n",
       "</style>\n",
       "<table border=\"1\" class=\"dataframe\">\n",
       "  <thead>\n",
       "    <tr style=\"text-align: right;\">\n",
       "      <th></th>\n",
       "      <th>event</th>\n",
       "      <th>userid</th>\n",
       "      <th>ratio</th>\n",
       "    </tr>\n",
       "  </thead>\n",
       "  <tbody>\n",
       "    <tr>\n",
       "      <th>0</th>\n",
       "      <td>StartReadingOffer</td>\n",
       "      <td>1699</td>\n",
       "      <td>100.00%</td>\n",
       "    </tr>\n",
       "    <tr>\n",
       "      <th>1</th>\n",
       "      <td>StartCheckProduct</td>\n",
       "      <td>1018</td>\n",
       "      <td>60.00%</td>\n",
       "    </tr>\n",
       "    <tr>\n",
       "      <th>2</th>\n",
       "      <td>OpenPaymentScreen</td>\n",
       "      <td>865</td>\n",
       "      <td>51.00%</td>\n",
       "    </tr>\n",
       "    <tr>\n",
       "      <th>3</th>\n",
       "      <td>OpenProductCard</td>\n",
       "      <td>822</td>\n",
       "      <td>48.00%</td>\n",
       "    </tr>\n",
       "  </tbody>\n",
       "</table>\n",
       "</div>"
      ],
      "text/plain": [
       "               event  userid    ratio\n",
       "0  StartReadingOffer    1699  100.00%\n",
       "1  StartCheckProduct    1018   60.00%\n",
       "2  OpenPaymentScreen     865   51.00%\n",
       "3    OpenProductCard     822   48.00%"
      ]
     },
     "execution_count": 67,
     "metadata": {},
     "output_type": "execute_result"
    }
   ],
   "source": [
    "# сгруппируем данные по событиям и найдем количество уникальных посетителей\n",
    "def groups_groupby (group_number):\n",
    "    group = df.query('group == @group_number')\\\n",
    "                                    .groupby('event')\\\n",
    "                                    .agg({'userid':'nunique'})\\\n",
    "                                    .sort_values('userid', ascending=False)\\\n",
    "                                    .reset_index()\n",
    "    for i in range(1, len(group), 1):\n",
    "        group.loc[i, 'ratio'] = ((group.loc[i, 'userid'] / group.loc[0, 'userid']).round(2))\n",
    "    group=group.fillna(1)\n",
    "    group['ratio'] = group['ratio'].map(lambda x: '{:.2%}'.format(x))\n",
    "    return group\n",
    "# применим функцию\n",
    "group_A1 = groups_groupby(\"A1\")\n",
    "group_A2 = groups_groupby(\"A2\")\n",
    "group_B = groups_groupby(\"B\")\n",
    "group_A1"
   ]
  },
  {
   "cell_type": "markdown",
   "metadata": {},
   "source": [
    "#### A/A тестирование"
   ]
  },
  {
   "cell_type": "markdown",
   "metadata": {},
   "source": [
    "Проверим у контрольных групп A1 и A2 разбиение на равные доли с помощью z-теста. Посмотрим на различия в разности долей каждого из событий от общего числа пользователей группы."
   ]
  },
  {
   "cell_type": "code",
   "execution_count": 68,
   "metadata": {},
   "outputs": [
    {
     "name": "stdout",
     "output_type": "stream",
     "text": [
      "\t\t\t\t\tStartReadingOffer\n",
      "p-значение:  0.35568209179987287\n",
      "Не получилось отвергнуть нулевую гипотезу, нет оснований считать доли разными\n",
      "\n",
      "\n",
      "\t\t\t\t\tStartCheckProduct\n",
      "p-значение:  0.6553019287548096\n",
      "Не получилось отвергнуть нулевую гипотезу, нет оснований считать доли разными\n",
      "\n",
      "\n",
      "\t\t\t\t\tOpenPaymentScreen\n",
      "p-значение:  0.7106375560293365\n",
      "Не получилось отвергнуть нулевую гипотезу, нет оснований считать доли разными\n",
      "\n",
      "\n",
      "\t\t\t\t\tOpenProductCard\n",
      "p-значение:  0.7744302355510726\n",
      "Не получилось отвергнуть нулевую гипотезу, нет оснований считать доли разными\n",
      "\n",
      "\n"
     ]
    }
   ],
   "source": [
    "def z_test_func(successes_1, trials_1, successes_2, trials_2):\n",
    "    \n",
    "    # критический уровень статистической значимости\n",
    "    alpha = .05\n",
    "    # пропорция успехов в первой группе:\n",
    "    p1 = successes_1/trials_1\n",
    "    # пропорция успехов во второй группе:\n",
    "    p2 = successes_2/trials_2\n",
    "    # пропорция успехов в датасете:\n",
    "    p_combined = (successes_1 + successes_2) / (trials_1 + trials_2)\n",
    "    # разница пропорций в датасетах\n",
    "    difference = p1 - p2\n",
    "    # считаем статистику в ст.отклонениях стандартного нормального распределения\n",
    "    z_value = difference / mth.sqrt(p_combined * (1 - p_combined) * (1/trials_1 + 1/trials_2))\n",
    "    # задаем стандартное нормальное распределение (среднее 0, ст.отклонение 1)\n",
    "    distr = st.norm(0, 1)\n",
    "    p_value = (1 - distr.cdf(abs(z_value))) * 2\n",
    "\n",
    "    print('p-значение: ', p_value)\n",
    "    if (p_value < alpha):\n",
    "        print(\"Отвергаем нулевую гипотезу: между долями есть значимая разница\")\n",
    "    else:\n",
    "        print(\"Не получилось отвергнуть нулевую гипотезу, нет оснований считать доли разными\")\n",
    "        \n",
    "for i in range(0, len(group_A1), 1):\n",
    "    print(\"\\t\\t\\t\\t\\t\"+group_A1.loc[i, 'event'])\n",
    "    (z_test_func(group_A1.loc[i, 'userid'], group_A1['userid'].sum(), group_A2.loc[i, 'userid'], group_A2['userid'].sum()))\n",
    "    print (\"\\n\")"
   ]
  },
  {
   "cell_type": "markdown",
   "metadata": {},
   "source": [
    "В контрольных группах с высокой степенью достоверности одинаковые результаты, то есть разбиение похоже на корректное."
   ]
  },
  {
   "cell_type": "markdown",
   "metadata": {},
   "source": [
    "#### Проверка контрольных групп с тестовой"
   ]
  },
  {
   "cell_type": "markdown",
   "metadata": {},
   "source": [
    "**- проведем z-тест между контрольной группой A1 и тестовой B.**"
   ]
  },
  {
   "cell_type": "code",
   "execution_count": 69,
   "metadata": {},
   "outputs": [
    {
     "name": "stdout",
     "output_type": "stream",
     "text": [
      "\t\t\t\t\tStartReadingOffer\n",
      "p-значение:  0.7514200248086154\n",
      "Не получилось отвергнуть нулевую гипотезу, нет оснований считать доли разными\n",
      "\n",
      "\n",
      "\t\t\t\t\tStartCheckProduct\n",
      "p-значение:  0.863579107651641\n",
      "Не получилось отвергнуть нулевую гипотезу, нет оснований считать доли разными\n",
      "\n",
      "\n",
      "\t\t\t\t\tOpenPaymentScreen\n",
      "p-значение:  0.8143818623466637\n",
      "Не получилось отвергнуть нулевую гипотезу, нет оснований считать доли разными\n",
      "\n",
      "\n",
      "\t\t\t\t\tOpenProductCard\n",
      "p-значение:  0.9772220064406745\n",
      "Не получилось отвергнуть нулевую гипотезу, нет оснований считать доли разными\n",
      "\n",
      "\n"
     ]
    }
   ],
   "source": [
    "for i in range(0, len(group_A1), 1):\n",
    "    print(\"\\t\\t\\t\\t\\t\"+group_A1.loc[i, 'event'])\n",
    "    (z_test_func(group_A1.loc[i, 'userid'], group_A1['userid'].sum(), group_B.loc[i, 'userid'], group_B['userid'].sum()))\n",
    "    print (\"\\n\")"
   ]
  },
  {
   "cell_type": "markdown",
   "metadata": {},
   "source": [
    "**- проведем z-тест между контрольной группой A2 и тестовой B.**"
   ]
  },
  {
   "cell_type": "code",
   "execution_count": 70,
   "metadata": {},
   "outputs": [
    {
     "name": "stdout",
     "output_type": "stream",
     "text": [
      "\t\t\t\t\tStartReadingOffer\n",
      "p-значение:  0.21495910446896116\n",
      "Не получилось отвергнуть нулевую гипотезу, нет оснований считать доли разными\n",
      "\n",
      "\n",
      "\t\t\t\t\tStartCheckProduct\n",
      "p-значение:  0.5365071111876685\n",
      "Не получилось отвергнуть нулевую гипотезу, нет оснований считать доли разными\n",
      "\n",
      "\n",
      "\t\t\t\t\tOpenPaymentScreen\n",
      "p-значение:  0.544530113505004\n",
      "Не получилось отвергнуть нулевую гипотезу, нет оснований считать доли разными\n",
      "\n",
      "\n",
      "\t\t\t\t\tOpenProductCard\n",
      "p-значение:  0.7967998889086578\n",
      "Не получилось отвергнуть нулевую гипотезу, нет оснований считать доли разными\n",
      "\n",
      "\n"
     ]
    }
   ],
   "source": [
    "for i in range(0, len(group_A2), 1):\n",
    "    print(\"\\t\\t\\t\\t\\t\"+group_A2.loc[i, 'event'])\n",
    "    (z_test_func(group_A2.loc[i, 'userid'], group_A2['userid'].sum(), group_B.loc[i, 'userid'], group_B['userid'].sum()))\n",
    "    print (\"\\n\")"
   ]
  },
  {
   "cell_type": "markdown",
   "metadata": {},
   "source": [
    "- в тестовых и контрольных группах с высокой степенью достоверности одинаковые результаты, то есть доли всех событий вероятнее всего равны."
   ]
  },
  {
   "cell_type": "markdown",
   "metadata": {},
   "source": [
    "<a name=\"4.\"></a>\n",
    "### 4. Выводы [↑](#Содержание)"
   ]
  },
  {
   "cell_type": "markdown",
   "metadata": {},
   "source": [
    "**A/B тестирование**  \n",
    "Согласно результатам Z-теста с высокой степенью достоверности можно утверждать, что доли всех событий у контрольных и тестовой группы одинаковы. Рекомендуется остановить тест и признать результат неудачным и оставить версию сайта без чата.\n"
   ]
  },
  {
   "cell_type": "markdown",
   "metadata": {},
   "source": [
    "**Общее:**\n",
    "1. Среднее дневное количество событий на юзера составляет 8-10, тогда как по полным данным оно составляет около 20. Это значит, что пользователи чаще всего осуществляют покупку в течении более чем 1 дня.\n",
    "2. Замечены суточные особенности в количестве событий. Днём событий `StartReadingOffer` значительно больше относительно других событий, поздним вечером-ночью это соотношение значительно сокращается.\n",
    "3. Конверсия в связанной воронке составляет 13%, конверсия для несвязанной конверсии выше - 51,3%.\n",
    "4. По разнице в конверсиях очевидно, что многие клиенты пропускают некоторые из шагов.\n",
    "5. Дни недели не влияют на посещение."
   ]
  },
  {
   "cell_type": "markdown",
   "metadata": {},
   "source": [
    "**Особенности тестовой B группы:**\n",
    "1. В группе B во все дни эксперимента наблюдается повышенное количество событий на пользователя, в сравнении с другими группами.\n",
    "2. В ночь с 01-08-2019 на 02-08-2019 наблюдается картина, когда количество событий `OpenProductCard`, `OpenPaymentScreen` превышают `StartReadingOffer`. Пик поменьше виднеется и в ночь с 02-08-2019 на 03-08-2019.\n",
    "3. В группе B наблюдается больше пиков и они более высокие в сравнении с другими группами."
   ]
  }
 ],
 "metadata": {
  "kernelspec": {
   "display_name": "Python 3",
   "language": "python",
   "name": "python3"
  },
  "language_info": {
   "codemirror_mode": {
    "name": "ipython",
    "version": 3
   },
   "file_extension": ".py",
   "mimetype": "text/x-python",
   "name": "python",
   "nbconvert_exporter": "python",
   "pygments_lexer": "ipython3",
   "version": "3.7.3"
  }
 },
 "nbformat": 4,
 "nbformat_minor": 2
}
