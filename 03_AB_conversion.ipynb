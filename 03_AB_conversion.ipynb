{
 "cells": [
  {
   "cell_type": "markdown",
   "metadata": {},
   "source": [
    "# ПРИОРИТИЗАЦИЯ ГИПОТЕЗ | A/B ТЕСТИРОВАНИЕ"
   ]
  },
  {
   "cell_type": "markdown",
   "metadata": {},
   "source": [
    "<a name=\"Содержание\"></a> \n",
    "## Содержание:\n",
    "0. [Описание проекта, описание данных, загрузка и импорт библиотек](#0.)\n",
    "1. [Приоритизация гипотез. Расчет ICE / RICE score](#1.)\n",
    "2. [Предобработка данных](#2.)   \n",
    "    2.1. [Датасет orders](#2.1.)  \n",
    "    2.2. [Датасет visitors](#2.2.)\n",
    "3. [Анализ A/B-теста](#3.)  \n",
    "    3.1. [Кумулятивная выручка по группам](#3.1.)  \n",
    "    3.2. [Кумулятивный средний чек по группам](#3.2.)  \n",
    "    3.3. [Относительное изменение кумулятивного среднего чека группы B к группе A](#3.3.)  \n",
    "    3.4. [Кумулятивная конверсия по группам](#3.4.)  \n",
    "    3.5. [Относительное изменение кумулятивной конверсии группы B к группе A](#3.5.)  \n",
    "    3.6. [Точечный график количества заказов по пользователям](#3.6.)  \n",
    "    3.7. [Точечный график стоимостей заказов](#3.7.)  \n",
    "4. [Проверка статистической значимости различий в группах A/B теста](#4.)  \n",
    "    4.1. [Статистическая значимость различий в конверсии между группами по «сырым» данным](#4.1.)  \n",
    "    4.2. [Статистическая значимость различий среднего чека заказа между группами по «сырым» данным](#4.2.)  \n",
    "    4.3. [Статистическая значимость различий в конверсии между группами по «очищенным» данным](#4.3.)  \n",
    "    4.4. [Статистическая значимость различий среднего чека заказа между группами по «очищенным» данным](#4.4.)  \n",
    "5. [Выводы](#5.)  "
   ]
  },
  {
   "cell_type": "markdown",
   "metadata": {},
   "source": [
    "<a name=\"0.\"></a>\n",
    "## 0. Описание проекта [↑](#Содержание)"
   ]
  },
  {
   "cell_type": "markdown",
   "metadata": {},
   "source": [
    "Клиент - крупный онлайн-ритейлер. Отдел маркетинга подготовил список гипотез для увеличения выручки, необходимо приоритизировать их и проанализировать результаты проведенного A/B-теста. Прежде всего нужно рассмотреть изменения в среднем чеке, конверсии и количестве заказов."
   ]
  },
  {
   "cell_type": "markdown",
   "metadata": {},
   "source": [
    "#### Описание данных [↑](#Содержание)"
   ]
  },
  {
   "cell_type": "markdown",
   "metadata": {},
   "source": [
    "Датасет **`hypothesis.csv`** cсодержат список гипотез.  \n",
    "`hypothesis` — краткое описание гипотезы;  \n",
    "`reach` — охват пользователей по 10-балльной шкале;  \n",
    "`impact` — влияние на пользователей по 10-балльной шкале;  \n",
    "`confidence` — уверенность в гипотезе по 10-балльной шкале;  \n",
    "`efforts` — затраты ресурсов на проверку гипотезы по 10-балльной шкале. Чем больше значение Efforts, тем дороже проверка гипотезы.  \n",
    "  \n",
    "\n",
    "Датасет **`orders.csv`**, 1197 записей. Содержит информацию о заказах пользователей в период с 01-08-2019 по 31-08-2019.  \n",
    "`transactionId` — идентификатор заказа;  \n",
    "`visitorId` — идентификатор пользователя, совершившего заказ;  \n",
    "`date` — дата, когда был совершён заказ;  \n",
    "`revenue` — выручка заказа;  \n",
    "`group` — группа A/B-теста, в которую попал заказ.  \n",
    "  \n",
    "Датасет **`visitors.csv`**, 62 записи.  Содержит информацию о визитах пользователей в период с 01-08-2019 по 31-08-2019.  \n",
    "`date` — дата;  \n",
    "`group` — группа A/B-теста;  \n",
    "`visitors` — количество пользователей в указанную дату в указанной группе A/B-теста.  "
   ]
  },
  {
   "cell_type": "markdown",
   "metadata": {},
   "source": [
    "#### Импорт библиотек, настройки Jupiter [↑](#Содержание)"
   ]
  },
  {
   "cell_type": "code",
   "execution_count": 169,
   "metadata": {},
   "outputs": [],
   "source": [
    "import pandas as pd\n",
    "import numpy as np\n",
    "import matplotlib.pyplot as plt\n",
    "import scipy.stats as stats\n",
    "import datetime as dt\n",
    "import warnings\n",
    "warnings.simplefilter(action='ignore', category=FutureWarning)"
   ]
  },
  {
   "cell_type": "code",
   "execution_count": 170,
   "metadata": {},
   "outputs": [],
   "source": [
    "pd.set_option('display.max_colwidth', 150)\n",
    "pd.set_option('display.max_columns', None)"
   ]
  },
  {
   "cell_type": "markdown",
   "metadata": {},
   "source": [
    "<a name=\"1.\"></a>\n",
    "### 1. Приоритизация гипотез. Расчет ICE / RICE score [↑](#Содержание)"
   ]
  },
  {
   "cell_type": "code",
   "execution_count": 171,
   "metadata": {},
   "outputs": [],
   "source": [
    "path = 'C:/Users/Sergey/Desktop/'\n",
    "hypothesis = pd.read_csv(path + 'hypothesis.csv')"
   ]
  },
  {
   "cell_type": "code",
   "execution_count": 172,
   "metadata": {},
   "outputs": [
    {
     "data": {
      "text/html": [
       "<div>\n",
       "<style scoped>\n",
       "    .dataframe tbody tr th:only-of-type {\n",
       "        vertical-align: middle;\n",
       "    }\n",
       "\n",
       "    .dataframe tbody tr th {\n",
       "        vertical-align: top;\n",
       "    }\n",
       "\n",
       "    .dataframe thead th {\n",
       "        text-align: right;\n",
       "    }\n",
       "</style>\n",
       "<table border=\"1\" class=\"dataframe\">\n",
       "  <thead>\n",
       "    <tr style=\"text-align: right;\">\n",
       "      <th></th>\n",
       "      <th>Unnamed: 0</th>\n",
       "      <th>hypothesis</th>\n",
       "      <th>reach</th>\n",
       "      <th>impact</th>\n",
       "      <th>confidence</th>\n",
       "      <th>efforts</th>\n",
       "    </tr>\n",
       "  </thead>\n",
       "  <tbody>\n",
       "    <tr>\n",
       "      <th>0</th>\n",
       "      <td>0</td>\n",
       "      <td>Добавить два новых канала привлечения трафика, что позволит привлекать на 30% больше пользователей</td>\n",
       "      <td>3</td>\n",
       "      <td>10</td>\n",
       "      <td>8</td>\n",
       "      <td>6</td>\n",
       "    </tr>\n",
       "    <tr>\n",
       "      <th>1</th>\n",
       "      <td>1</td>\n",
       "      <td>Запустить собственную службу доставки, что сократит срок доставки заказов</td>\n",
       "      <td>2</td>\n",
       "      <td>5</td>\n",
       "      <td>4</td>\n",
       "      <td>10</td>\n",
       "    </tr>\n",
       "    <tr>\n",
       "      <th>2</th>\n",
       "      <td>2</td>\n",
       "      <td>Добавить блоки рекомендаций товаров на сайт интернет магазина, чтобы повысить конверсию и средний чек заказа</td>\n",
       "      <td>8</td>\n",
       "      <td>3</td>\n",
       "      <td>7</td>\n",
       "      <td>3</td>\n",
       "    </tr>\n",
       "  </tbody>\n",
       "</table>\n",
       "</div>"
      ],
      "text/plain": [
       "   Unnamed: 0  \\\n",
       "0           0   \n",
       "1           1   \n",
       "2           2   \n",
       "\n",
       "                                                                                                     hypothesis  \\\n",
       "0            Добавить два новых канала привлечения трафика, что позволит привлекать на 30% больше пользователей   \n",
       "1                                     Запустить собственную службу доставки, что сократит срок доставки заказов   \n",
       "2  Добавить блоки рекомендаций товаров на сайт интернет магазина, чтобы повысить конверсию и средний чек заказа   \n",
       "\n",
       "   reach  impact  confidence  efforts  \n",
       "0      3      10           8        6  \n",
       "1      2       5           4       10  \n",
       "2      8       3           7        3  "
      ]
     },
     "execution_count": 172,
     "metadata": {},
     "output_type": "execute_result"
    }
   ],
   "source": [
    "hypothesis.head(3)"
   ]
  },
  {
   "cell_type": "code",
   "execution_count": 173,
   "metadata": {},
   "outputs": [],
   "source": [
    "# ICE score\n",
    "hypothesis['ICEscore'] = ((hypothesis['impact']*hypothesis['confidence'])/hypothesis['efforts']).round(1)\n",
    "# RICE score\n",
    "hypothesis['RICEscore'] = ((hypothesis['reach']*hypothesis['impact']*hypothesis['confidence'])/hypothesis['efforts']).round(1)"
   ]
  },
  {
   "cell_type": "code",
   "execution_count": 174,
   "metadata": {},
   "outputs": [
    {
     "data": {
      "text/html": [
       "<div>\n",
       "<style scoped>\n",
       "    .dataframe tbody tr th:only-of-type {\n",
       "        vertical-align: middle;\n",
       "    }\n",
       "\n",
       "    .dataframe tbody tr th {\n",
       "        vertical-align: top;\n",
       "    }\n",
       "\n",
       "    .dataframe thead th {\n",
       "        text-align: right;\n",
       "    }\n",
       "</style>\n",
       "<table border=\"1\" class=\"dataframe\">\n",
       "  <thead>\n",
       "    <tr style=\"text-align: right;\">\n",
       "      <th></th>\n",
       "      <th>reach</th>\n",
       "      <th>ICEscore</th>\n",
       "      <th>RICEscore</th>\n",
       "    </tr>\n",
       "  </thead>\n",
       "  <tbody>\n",
       "    <tr>\n",
       "      <th>8</th>\n",
       "      <td>1</td>\n",
       "      <td>16.2</td>\n",
       "      <td>16.2</td>\n",
       "    </tr>\n",
       "    <tr>\n",
       "      <th>0</th>\n",
       "      <td>3</td>\n",
       "      <td>13.3</td>\n",
       "      <td>40.0</td>\n",
       "    </tr>\n",
       "    <tr>\n",
       "      <th>7</th>\n",
       "      <td>10</td>\n",
       "      <td>11.2</td>\n",
       "      <td>112.0</td>\n",
       "    </tr>\n",
       "    <tr>\n",
       "      <th>6</th>\n",
       "      <td>5</td>\n",
       "      <td>8.0</td>\n",
       "      <td>40.0</td>\n",
       "    </tr>\n",
       "    <tr>\n",
       "      <th>2</th>\n",
       "      <td>8</td>\n",
       "      <td>7.0</td>\n",
       "      <td>56.0</td>\n",
       "    </tr>\n",
       "    <tr>\n",
       "      <th>1</th>\n",
       "      <td>2</td>\n",
       "      <td>2.0</td>\n",
       "      <td>4.0</td>\n",
       "    </tr>\n",
       "    <tr>\n",
       "      <th>5</th>\n",
       "      <td>3</td>\n",
       "      <td>1.3</td>\n",
       "      <td>4.0</td>\n",
       "    </tr>\n",
       "    <tr>\n",
       "      <th>3</th>\n",
       "      <td>8</td>\n",
       "      <td>1.1</td>\n",
       "      <td>9.0</td>\n",
       "    </tr>\n",
       "    <tr>\n",
       "      <th>4</th>\n",
       "      <td>3</td>\n",
       "      <td>1.0</td>\n",
       "      <td>3.0</td>\n",
       "    </tr>\n",
       "  </tbody>\n",
       "</table>\n",
       "</div>"
      ],
      "text/plain": [
       "   reach  ICEscore  RICEscore\n",
       "8      1      16.2       16.2\n",
       "0      3      13.3       40.0\n",
       "7     10      11.2      112.0\n",
       "6      5       8.0       40.0\n",
       "2      8       7.0       56.0\n",
       "1      2       2.0        4.0\n",
       "5      3       1.3        4.0\n",
       "3      8       1.1        9.0\n",
       "4      3       1.0        3.0"
      ]
     },
     "execution_count": 174,
     "metadata": {},
     "output_type": "execute_result"
    }
   ],
   "source": [
    "hypothesis[['reach', 'ICEscore', 'RICEscore']].sort_values(by='ICEscore', ascending=False)"
   ]
  },
  {
   "cell_type": "markdown",
   "metadata": {},
   "source": [
    "**Выводы:**  \n",
    "при применении RICE score вместо ICE некоторые гипотезы стали значительнее приоритетнее (например, гипотезы 7, 2). У данных гипотез показатель reach больше среднего - 10 и 8, соответственно. В целом, наблюдается картина, при котороый высокий уровень охвата (reach) может выводить гипотезы на более приоритетные позиции, по сравнению с ICE приоритизацией. При этом низкий уровень reach (гипотеза 8) может значительно снижать позицию гипотезы в рамках RICE приоритизации."
   ]
  },
  {
   "cell_type": "markdown",
   "metadata": {},
   "source": [
    "----"
   ]
  },
  {
   "cell_type": "markdown",
   "metadata": {},
   "source": [
    "<a name=\"2.\"></a>\n",
    "### 2. Предобработка данных [↑](#Содержание)"
   ]
  },
  {
   "cell_type": "markdown",
   "metadata": {},
   "source": [
    "<a name=\"2.1.\"></a>\n",
    "#### 2.1. Датасет orders [↑](#Содержание)"
   ]
  },
  {
   "cell_type": "code",
   "execution_count": 175,
   "metadata": {},
   "outputs": [
    {
     "data": {
      "text/html": [
       "<div>\n",
       "<style scoped>\n",
       "    .dataframe tbody tr th:only-of-type {\n",
       "        vertical-align: middle;\n",
       "    }\n",
       "\n",
       "    .dataframe tbody tr th {\n",
       "        vertical-align: top;\n",
       "    }\n",
       "\n",
       "    .dataframe thead th {\n",
       "        text-align: right;\n",
       "    }\n",
       "</style>\n",
       "<table border=\"1\" class=\"dataframe\">\n",
       "  <thead>\n",
       "    <tr style=\"text-align: right;\">\n",
       "      <th></th>\n",
       "      <th>transactionId</th>\n",
       "      <th>visitorId</th>\n",
       "      <th>date</th>\n",
       "      <th>revenue</th>\n",
       "      <th>group</th>\n",
       "    </tr>\n",
       "  </thead>\n",
       "  <tbody>\n",
       "    <tr>\n",
       "      <th>0</th>\n",
       "      <td>3667963787</td>\n",
       "      <td>3312258926</td>\n",
       "      <td>2019-08-15</td>\n",
       "      <td>1650</td>\n",
       "      <td>B</td>\n",
       "    </tr>\n",
       "    <tr>\n",
       "      <th>1</th>\n",
       "      <td>2804400009</td>\n",
       "      <td>3642806036</td>\n",
       "      <td>2019-08-15</td>\n",
       "      <td>730</td>\n",
       "      <td>B</td>\n",
       "    </tr>\n",
       "    <tr>\n",
       "      <th>2</th>\n",
       "      <td>2961555356</td>\n",
       "      <td>4069496402</td>\n",
       "      <td>2019-08-15</td>\n",
       "      <td>400</td>\n",
       "      <td>A</td>\n",
       "    </tr>\n",
       "    <tr>\n",
       "      <th>3</th>\n",
       "      <td>3797467345</td>\n",
       "      <td>1196621759</td>\n",
       "      <td>2019-08-15</td>\n",
       "      <td>9759</td>\n",
       "      <td>B</td>\n",
       "    </tr>\n",
       "    <tr>\n",
       "      <th>4</th>\n",
       "      <td>2282983706</td>\n",
       "      <td>2322279887</td>\n",
       "      <td>2019-08-15</td>\n",
       "      <td>2308</td>\n",
       "      <td>B</td>\n",
       "    </tr>\n",
       "  </tbody>\n",
       "</table>\n",
       "</div>"
      ],
      "text/plain": [
       "   transactionId   visitorId        date  revenue group\n",
       "0     3667963787  3312258926  2019-08-15     1650     B\n",
       "1     2804400009  3642806036  2019-08-15      730     B\n",
       "2     2961555356  4069496402  2019-08-15      400     A\n",
       "3     3797467345  1196621759  2019-08-15     9759     B\n",
       "4     2282983706  2322279887  2019-08-15     2308     B"
      ]
     },
     "execution_count": 175,
     "metadata": {},
     "output_type": "execute_result"
    }
   ],
   "source": [
    "orders = pd.read_csv(path + 'orders.csv', index_col=0)\n",
    "orders.head()"
   ]
  },
  {
   "cell_type": "code",
   "execution_count": 176,
   "metadata": {
    "scrolled": true
   },
   "outputs": [
    {
     "name": "stdout",
     "output_type": "stream",
     "text": [
      "<class 'pandas.core.frame.DataFrame'>\n",
      "Int64Index: 1197 entries, 0 to 1196\n",
      "Data columns (total 5 columns):\n",
      "transactionId    1197 non-null int64\n",
      "visitorId        1197 non-null int64\n",
      "date             1197 non-null object\n",
      "revenue          1197 non-null int64\n",
      "group            1197 non-null object\n",
      "dtypes: int64(3), object(2)\n",
      "memory usage: 56.1+ KB\n"
     ]
    }
   ],
   "source": [
    "orders.info()"
   ]
  },
  {
   "cell_type": "markdown",
   "metadata": {},
   "source": [
    "В датасете отсутствуют полные дубликаты и пропуски. Колонку date следует привести к типа `datetime`. Переименуем названия колонок для удобства."
   ]
  },
  {
   "cell_type": "code",
   "execution_count": 177,
   "metadata": {},
   "outputs": [],
   "source": [
    "#  Переименуем названия столбцов для удобства. Изменим тип данных колонки date\n",
    "orders.columns = ['orderid', 'id', 'date', 'revenue', 'group']\n",
    "orders['date'] = orders['date'].astype('datetime64')"
   ]
  },
  {
   "cell_type": "markdown",
   "metadata": {},
   "source": [
    "Проверим на равные ли части поделён трафик между группами A/B теста."
   ]
  },
  {
   "cell_type": "code",
   "execution_count": 178,
   "metadata": {
    "scrolled": true
   },
   "outputs": [
    {
     "name": "stdout",
     "output_type": "stream",
     "text": [
      "Вcего уникальных ID: 1031\n"
     ]
    },
    {
     "data": {
      "text/html": [
       "<div>\n",
       "<style scoped>\n",
       "    .dataframe tbody tr th:only-of-type {\n",
       "        vertical-align: middle;\n",
       "    }\n",
       "\n",
       "    .dataframe tbody tr th {\n",
       "        vertical-align: top;\n",
       "    }\n",
       "\n",
       "    .dataframe thead th {\n",
       "        text-align: right;\n",
       "    }\n",
       "</style>\n",
       "<table border=\"1\" class=\"dataframe\">\n",
       "  <thead>\n",
       "    <tr style=\"text-align: right;\">\n",
       "      <th></th>\n",
       "      <th>id</th>\n",
       "    </tr>\n",
       "    <tr>\n",
       "      <th>group</th>\n",
       "      <th></th>\n",
       "    </tr>\n",
       "  </thead>\n",
       "  <tbody>\n",
       "    <tr>\n",
       "      <th>A</th>\n",
       "      <td>503</td>\n",
       "    </tr>\n",
       "    <tr>\n",
       "      <th>B</th>\n",
       "      <td>586</td>\n",
       "    </tr>\n",
       "  </tbody>\n",
       "</table>\n",
       "</div>"
      ],
      "text/plain": [
       "        id\n",
       "group     \n",
       "A      503\n",
       "B      586"
      ]
     },
     "execution_count": 178,
     "metadata": {},
     "output_type": "execute_result"
    }
   ],
   "source": [
    "print(\"Вcего уникальных ID: {}\".format(orders['id'].nunique()))\n",
    "orders.pivot_table(index='group', aggfunc={'id':'nunique'})"
   ]
  },
  {
   "cell_type": "markdown",
   "metadata": {},
   "source": [
    "Всего в orders 1031 уникальных id, но при группировке по A/B группам их 1089 (больше примерно на 5%). По всей видимости, некоторые id в какой-то момент попали в обе группы. Найдем данные id и удалим из датасета, чтобы не искажать результаты теста."
   ]
  },
  {
   "cell_type": "code",
   "execution_count": 179,
   "metadata": {
    "scrolled": false
   },
   "outputs": [
    {
     "name": "stdout",
     "output_type": "stream",
     "text": [
      "Количество ID, попавших в обе группы: 58\n"
     ]
    }
   ],
   "source": [
    "#  формируем список id у которых есть покупки в A и B группах одновременно\n",
    "id_not_valide = orders.groupby('id', as_index=False).agg({'group':'nunique'})\n",
    "id_not_valide = id_not_valide[id_not_valide['group'] >= 2][['id']]\n",
    "print(\"Количество ID, попавших в обе группы: {}\".format(id_not_valide.count()[0]))"
   ]
  },
  {
   "cell_type": "markdown",
   "metadata": {},
   "source": [
    "Чтобы сократить искажение в таблице `visits`, в которой находятся все пользователи, в том числе и те, которые пребывали и в A и в B группах -мы создадим таблицу с количеством этих пользователей, приходящихся на каждый день. Позднее их удалим в таблице `visitors`."
   ]
  },
  {
   "cell_type": "code",
   "execution_count": 180,
   "metadata": {},
   "outputs": [
    {
     "data": {
      "text/plain": [
       "58"
      ]
     },
     "execution_count": 180,
     "metadata": {},
     "output_type": "execute_result"
    }
   ],
   "source": [
    "# Создаем таблицу с id, которые находились в обеих группах теста\n",
    "orders_wrong = orders[np.logical_not(~orders['id'].isin(id_not_valide['id']))]\n",
    "orders_wrong['id'].nunique()"
   ]
  },
  {
   "cell_type": "code",
   "execution_count": 181,
   "metadata": {},
   "outputs": [
    {
     "data": {
      "text/html": [
       "<div>\n",
       "<style scoped>\n",
       "    .dataframe tbody tr th:only-of-type {\n",
       "        vertical-align: middle;\n",
       "    }\n",
       "\n",
       "    .dataframe tbody tr th {\n",
       "        vertical-align: top;\n",
       "    }\n",
       "\n",
       "    .dataframe thead th {\n",
       "        text-align: right;\n",
       "    }\n",
       "</style>\n",
       "<table border=\"1\" class=\"dataframe\">\n",
       "  <thead>\n",
       "    <tr style=\"text-align: right;\">\n",
       "      <th></th>\n",
       "      <th>date</th>\n",
       "      <th>group</th>\n",
       "      <th>id</th>\n",
       "    </tr>\n",
       "  </thead>\n",
       "  <tbody>\n",
       "    <tr>\n",
       "      <th>0</th>\n",
       "      <td>2019-08-01</td>\n",
       "      <td>A</td>\n",
       "      <td>1</td>\n",
       "    </tr>\n",
       "    <tr>\n",
       "      <th>1</th>\n",
       "      <td>2019-08-01</td>\n",
       "      <td>B</td>\n",
       "      <td>3</td>\n",
       "    </tr>\n",
       "    <tr>\n",
       "      <th>2</th>\n",
       "      <td>2019-08-02</td>\n",
       "      <td>A</td>\n",
       "      <td>1</td>\n",
       "    </tr>\n",
       "  </tbody>\n",
       "</table>\n",
       "</div>"
      ],
      "text/plain": [
       "        date group  id\n",
       "0 2019-08-01     A   1\n",
       "1 2019-08-01     B   3\n",
       "2 2019-08-02     A   1"
      ]
     },
     "execution_count": 181,
     "metadata": {},
     "output_type": "execute_result"
    }
   ],
   "source": [
    "# находим количество пользователей, находящихся в обеих группах теста на каждый день теста\n",
    "id_orders_wrong = orders_wrong.groupby(['date', 'group'], as_index=False).agg({'id':'nunique'})\n",
    "id_orders_wrong.head(3)"
   ]
  },
  {
   "cell_type": "code",
   "execution_count": 182,
   "metadata": {},
   "outputs": [
    {
     "data": {
      "text/plain": [
       "id    0\n",
       "dtype: int64"
      ]
     },
     "execution_count": 182,
     "metadata": {},
     "output_type": "execute_result"
    }
   ],
   "source": [
    "#  исключаем найденные id из общего датасета orders\n",
    "orders = orders[np.logical_not(orders['id'].isin(id_not_valide['id']))]\n",
    "\n",
    "#  проверяем в датасете количество id, находящихся в 2 группах одновременно\n",
    "id_not_valide = orders.groupby('id', as_index=False).agg({'group':'nunique'})\n",
    "id_not_valide = id_not_valide[id_not_valide['group'] >= 2][['id']]\n",
    "id_not_valide.count()"
   ]
  },
  {
   "cell_type": "code",
   "execution_count": 183,
   "metadata": {},
   "outputs": [
    {
     "data": {
      "text/html": [
       "<div>\n",
       "<style scoped>\n",
       "    .dataframe tbody tr th:only-of-type {\n",
       "        vertical-align: middle;\n",
       "    }\n",
       "\n",
       "    .dataframe tbody tr th {\n",
       "        vertical-align: top;\n",
       "    }\n",
       "\n",
       "    .dataframe thead th {\n",
       "        text-align: right;\n",
       "    }\n",
       "</style>\n",
       "<table border=\"1\" class=\"dataframe\">\n",
       "  <thead>\n",
       "    <tr style=\"text-align: right;\">\n",
       "      <th></th>\n",
       "      <th>id</th>\n",
       "    </tr>\n",
       "    <tr>\n",
       "      <th>group</th>\n",
       "      <th></th>\n",
       "    </tr>\n",
       "  </thead>\n",
       "  <tbody>\n",
       "    <tr>\n",
       "      <th>A</th>\n",
       "      <td>445</td>\n",
       "    </tr>\n",
       "    <tr>\n",
       "      <th>B</th>\n",
       "      <td>528</td>\n",
       "    </tr>\n",
       "  </tbody>\n",
       "</table>\n",
       "</div>"
      ],
      "text/plain": [
       "        id\n",
       "group     \n",
       "A      445\n",
       "B      528"
      ]
     },
     "execution_count": 183,
     "metadata": {},
     "output_type": "execute_result"
    }
   ],
   "source": [
    "orders.pivot_table(index='group', aggfunc={'id':'nunique'})"
   ]
  },
  {
   "cell_type": "markdown",
   "metadata": {},
   "source": [
    "Видим, что в датасете различное количество заказов в группах. В группе B наблюдается большее количество сделанных заказов."
   ]
  },
  {
   "cell_type": "markdown",
   "metadata": {},
   "source": [
    "<a name=\"2.2.\"></a>\n",
    "#### 2.2. Датасет visitors [↑](#Содержание)"
   ]
  },
  {
   "cell_type": "code",
   "execution_count": 184,
   "metadata": {},
   "outputs": [
    {
     "data": {
      "text/html": [
       "<div>\n",
       "<style scoped>\n",
       "    .dataframe tbody tr th:only-of-type {\n",
       "        vertical-align: middle;\n",
       "    }\n",
       "\n",
       "    .dataframe tbody tr th {\n",
       "        vertical-align: top;\n",
       "    }\n",
       "\n",
       "    .dataframe thead th {\n",
       "        text-align: right;\n",
       "    }\n",
       "</style>\n",
       "<table border=\"1\" class=\"dataframe\">\n",
       "  <thead>\n",
       "    <tr style=\"text-align: right;\">\n",
       "      <th></th>\n",
       "      <th>date</th>\n",
       "      <th>group</th>\n",
       "      <th>visitors</th>\n",
       "    </tr>\n",
       "  </thead>\n",
       "  <tbody>\n",
       "    <tr>\n",
       "      <th>0</th>\n",
       "      <td>2019-08-01</td>\n",
       "      <td>A</td>\n",
       "      <td>719</td>\n",
       "    </tr>\n",
       "    <tr>\n",
       "      <th>1</th>\n",
       "      <td>2019-08-02</td>\n",
       "      <td>A</td>\n",
       "      <td>619</td>\n",
       "    </tr>\n",
       "    <tr>\n",
       "      <th>2</th>\n",
       "      <td>2019-08-03</td>\n",
       "      <td>A</td>\n",
       "      <td>507</td>\n",
       "    </tr>\n",
       "  </tbody>\n",
       "</table>\n",
       "</div>"
      ],
      "text/plain": [
       "         date group  visitors\n",
       "0  2019-08-01     A       719\n",
       "1  2019-08-02     A       619\n",
       "2  2019-08-03     A       507"
      ]
     },
     "execution_count": 184,
     "metadata": {},
     "output_type": "execute_result"
    }
   ],
   "source": [
    "visitors = pd.read_csv(path + 'visitors.csv', index_col=0)\n",
    "visitors.head(3)"
   ]
  },
  {
   "cell_type": "code",
   "execution_count": 185,
   "metadata": {},
   "outputs": [
    {
     "name": "stdout",
     "output_type": "stream",
     "text": [
      "<class 'pandas.core.frame.DataFrame'>\n",
      "Int64Index: 62 entries, 0 to 61\n",
      "Data columns (total 3 columns):\n",
      "date        62 non-null object\n",
      "group       62 non-null object\n",
      "visitors    62 non-null int64\n",
      "dtypes: int64(1), object(2)\n",
      "memory usage: 1.9+ KB\n"
     ]
    }
   ],
   "source": [
    "visitors.info()"
   ]
  },
  {
   "cell_type": "markdown",
   "metadata": {},
   "source": [
    "В таблице наблюдается некорректный тип данных колонки `date`."
   ]
  },
  {
   "cell_type": "code",
   "execution_count": 186,
   "metadata": {},
   "outputs": [],
   "source": [
    "visitors['date'] = visitors['date'].astype('datetime64')"
   ]
  },
  {
   "cell_type": "code",
   "execution_count": 187,
   "metadata": {},
   "outputs": [
    {
     "data": {
      "text/html": [
       "<div>\n",
       "<style scoped>\n",
       "    .dataframe tbody tr th:only-of-type {\n",
       "        vertical-align: middle;\n",
       "    }\n",
       "\n",
       "    .dataframe tbody tr th {\n",
       "        vertical-align: top;\n",
       "    }\n",
       "\n",
       "    .dataframe thead th {\n",
       "        text-align: right;\n",
       "    }\n",
       "</style>\n",
       "<table border=\"1\" class=\"dataframe\">\n",
       "  <thead>\n",
       "    <tr style=\"text-align: right;\">\n",
       "      <th></th>\n",
       "      <th>date</th>\n",
       "      <th>group</th>\n",
       "      <th>visitors</th>\n",
       "      <th>wrong_id</th>\n",
       "    </tr>\n",
       "  </thead>\n",
       "  <tbody>\n",
       "    <tr>\n",
       "      <th>0</th>\n",
       "      <td>2019-08-01</td>\n",
       "      <td>A</td>\n",
       "      <td>719</td>\n",
       "      <td>1.0</td>\n",
       "    </tr>\n",
       "    <tr>\n",
       "      <th>1</th>\n",
       "      <td>2019-08-02</td>\n",
       "      <td>A</td>\n",
       "      <td>619</td>\n",
       "      <td>1.0</td>\n",
       "    </tr>\n",
       "    <tr>\n",
       "      <th>2</th>\n",
       "      <td>2019-08-03</td>\n",
       "      <td>A</td>\n",
       "      <td>507</td>\n",
       "      <td>NaN</td>\n",
       "    </tr>\n",
       "  </tbody>\n",
       "</table>\n",
       "</div>"
      ],
      "text/plain": [
       "        date group  visitors  wrong_id\n",
       "0 2019-08-01     A       719       1.0\n",
       "1 2019-08-02     A       619       1.0\n",
       "2 2019-08-03     A       507       NaN"
      ]
     },
     "execution_count": 187,
     "metadata": {},
     "output_type": "execute_result"
    }
   ],
   "source": [
    "# мерджим visitors с таблицей id_orders_wrong, ID которых пребывали в обоих группах теста одновременно\n",
    "visitors = visitors.merge(id_orders_wrong, how='left', on=['date','group'])\n",
    "\n",
    "# переименовываем столбец с данными ID\n",
    "visitors.rename({'id':'wrong_id'}, axis=1, inplace=True)\n",
    "visitors.head(3)"
   ]
  },
  {
   "cell_type": "code",
   "execution_count": 188,
   "metadata": {},
   "outputs": [
    {
     "data": {
      "text/html": [
       "<div>\n",
       "<style scoped>\n",
       "    .dataframe tbody tr th:only-of-type {\n",
       "        vertical-align: middle;\n",
       "    }\n",
       "\n",
       "    .dataframe tbody tr th {\n",
       "        vertical-align: top;\n",
       "    }\n",
       "\n",
       "    .dataframe thead th {\n",
       "        text-align: right;\n",
       "    }\n",
       "</style>\n",
       "<table border=\"1\" class=\"dataframe\">\n",
       "  <thead>\n",
       "    <tr style=\"text-align: right;\">\n",
       "      <th></th>\n",
       "      <th>date</th>\n",
       "      <th>group</th>\n",
       "      <th>visitors</th>\n",
       "    </tr>\n",
       "  </thead>\n",
       "  <tbody>\n",
       "    <tr>\n",
       "      <th>0</th>\n",
       "      <td>2019-08-01</td>\n",
       "      <td>A</td>\n",
       "      <td>718</td>\n",
       "    </tr>\n",
       "    <tr>\n",
       "      <th>1</th>\n",
       "      <td>2019-08-02</td>\n",
       "      <td>A</td>\n",
       "      <td>618</td>\n",
       "    </tr>\n",
       "    <tr>\n",
       "      <th>2</th>\n",
       "      <td>2019-08-03</td>\n",
       "      <td>A</td>\n",
       "      <td>507</td>\n",
       "    </tr>\n",
       "  </tbody>\n",
       "</table>\n",
       "</div>"
      ],
      "text/plain": [
       "        date group  visitors\n",
       "0 2019-08-01     A       718\n",
       "1 2019-08-02     A       618\n",
       "2 2019-08-03     A       507"
      ]
     },
     "execution_count": 188,
     "metadata": {},
     "output_type": "execute_result"
    }
   ],
   "source": [
    "# заполняем NaN в колонке wrong_id\n",
    "visitors['wrong_id'].fillna(0, inplace=True)\n",
    "# считаем количество пользователей без пользователей, находившихся в 2 группах одновременно\n",
    "visitors['visitors'] = (visitors['visitors'] - visitors['wrong_id']).astype('int')\n",
    "# удаляем столбец с данными пользователями\n",
    "visitors = visitors.drop(['wrong_id'], axis=1)\n",
    "visitors.head(3)"
   ]
  },
  {
   "cell_type": "markdown",
   "metadata": {},
   "source": [
    "<a name=\"3.\"></a>\n",
    "### 3. Анализ A/B-теста [↑](#Содержание)"
   ]
  },
  {
   "cell_type": "markdown",
   "metadata": {},
   "source": [
    "<a name=\"3.1.\"></a>\n",
    "#### 3.1. Кумулятивная выручка по группам [↑](#Содержание)"
   ]
  },
  {
   "cell_type": "code",
   "execution_count": 189,
   "metadata": {},
   "outputs": [
    {
     "data": {
      "text/html": [
       "<div>\n",
       "<style scoped>\n",
       "    .dataframe tbody tr th:only-of-type {\n",
       "        vertical-align: middle;\n",
       "    }\n",
       "\n",
       "    .dataframe tbody tr th {\n",
       "        vertical-align: top;\n",
       "    }\n",
       "\n",
       "    .dataframe thead th {\n",
       "        text-align: right;\n",
       "    }\n",
       "</style>\n",
       "<table border=\"1\" class=\"dataframe\">\n",
       "  <thead>\n",
       "    <tr style=\"text-align: right;\">\n",
       "      <th></th>\n",
       "      <th>date</th>\n",
       "      <th>group</th>\n",
       "    </tr>\n",
       "  </thead>\n",
       "  <tbody>\n",
       "    <tr>\n",
       "      <th>0</th>\n",
       "      <td>2019-08-15</td>\n",
       "      <td>B</td>\n",
       "    </tr>\n",
       "    <tr>\n",
       "      <th>7</th>\n",
       "      <td>2019-08-15</td>\n",
       "      <td>A</td>\n",
       "    </tr>\n",
       "  </tbody>\n",
       "</table>\n",
       "</div>"
      ],
      "text/plain": [
       "        date group\n",
       "0 2019-08-15     B\n",
       "7 2019-08-15     A"
      ]
     },
     "execution_count": 189,
     "metadata": {},
     "output_type": "execute_result"
    }
   ],
   "source": [
    "# создаем пары значений дат и групп теста\n",
    "date_group = orders[['date','group']].drop_duplicates()\n",
    "date_group.head(2)"
   ]
  },
  {
   "cell_type": "code",
   "execution_count": 190,
   "metadata": {},
   "outputs": [
    {
     "data": {
      "text/html": [
       "<div>\n",
       "<style scoped>\n",
       "    .dataframe tbody tr th:only-of-type {\n",
       "        vertical-align: middle;\n",
       "    }\n",
       "\n",
       "    .dataframe tbody tr th {\n",
       "        vertical-align: top;\n",
       "    }\n",
       "\n",
       "    .dataframe thead th {\n",
       "        text-align: right;\n",
       "    }\n",
       "</style>\n",
       "<table border=\"1\" class=\"dataframe\">\n",
       "  <thead>\n",
       "    <tr style=\"text-align: right;\">\n",
       "      <th></th>\n",
       "      <th>date</th>\n",
       "      <th>group</th>\n",
       "      <th>orderid</th>\n",
       "      <th>id</th>\n",
       "      <th>revenue</th>\n",
       "    </tr>\n",
       "  </thead>\n",
       "  <tbody>\n",
       "    <tr>\n",
       "      <th>55</th>\n",
       "      <td>2019-08-01</td>\n",
       "      <td>A</td>\n",
       "      <td>23</td>\n",
       "      <td>19</td>\n",
       "      <td>142779</td>\n",
       "    </tr>\n",
       "    <tr>\n",
       "      <th>66</th>\n",
       "      <td>2019-08-01</td>\n",
       "      <td>B</td>\n",
       "      <td>17</td>\n",
       "      <td>17</td>\n",
       "      <td>59758</td>\n",
       "    </tr>\n",
       "    <tr>\n",
       "      <th>175</th>\n",
       "      <td>2019-08-02</td>\n",
       "      <td>A</td>\n",
       "      <td>42</td>\n",
       "      <td>36</td>\n",
       "      <td>234381</td>\n",
       "    </tr>\n",
       "  </tbody>\n",
       "</table>\n",
       "</div>"
      ],
      "text/plain": [
       "          date group  orderid  id  revenue\n",
       "55  2019-08-01     A       23  19   142779\n",
       "66  2019-08-01     B       17  17    59758\n",
       "175 2019-08-02     A       42  36   234381"
      ]
     },
     "execution_count": 190,
     "metadata": {},
     "output_type": "execute_result"
    }
   ],
   "source": [
    "# агреггируем кумулятивные данные о заказах \n",
    "orders_agg = date_group.apply(lambda x: orders[np.logical_and(orders['date'] <= x['date'], orders['group'] == x['group'])]\\\n",
    "                              .agg({'date' : 'max', 'group' : 'max', 'orderid' : pd.Series.nunique,\\\n",
    "                              'id' : pd.Series.nunique, 'revenue' : 'sum'}), axis=1).sort_values(by=['date','group'])\n",
    "orders_agg.head(3)"
   ]
  },
  {
   "cell_type": "code",
   "execution_count": 191,
   "metadata": {},
   "outputs": [
    {
     "data": {
      "text/html": [
       "<div>\n",
       "<style scoped>\n",
       "    .dataframe tbody tr th:only-of-type {\n",
       "        vertical-align: middle;\n",
       "    }\n",
       "\n",
       "    .dataframe tbody tr th {\n",
       "        vertical-align: top;\n",
       "    }\n",
       "\n",
       "    .dataframe thead th {\n",
       "        text-align: right;\n",
       "    }\n",
       "</style>\n",
       "<table border=\"1\" class=\"dataframe\">\n",
       "  <thead>\n",
       "    <tr style=\"text-align: right;\">\n",
       "      <th></th>\n",
       "      <th>date</th>\n",
       "      <th>group</th>\n",
       "      <th>visitors</th>\n",
       "    </tr>\n",
       "  </thead>\n",
       "  <tbody>\n",
       "    <tr>\n",
       "      <th>55</th>\n",
       "      <td>2019-08-01</td>\n",
       "      <td>A</td>\n",
       "      <td>718</td>\n",
       "    </tr>\n",
       "    <tr>\n",
       "      <th>66</th>\n",
       "      <td>2019-08-01</td>\n",
       "      <td>B</td>\n",
       "      <td>710</td>\n",
       "    </tr>\n",
       "    <tr>\n",
       "      <th>175</th>\n",
       "      <td>2019-08-02</td>\n",
       "      <td>A</td>\n",
       "      <td>1336</td>\n",
       "    </tr>\n",
       "  </tbody>\n",
       "</table>\n",
       "</div>"
      ],
      "text/plain": [
       "          date group  visitors\n",
       "55  2019-08-01     A       718\n",
       "66  2019-08-01     B       710\n",
       "175 2019-08-02     A      1336"
      ]
     },
     "execution_count": 191,
     "metadata": {},
     "output_type": "execute_result"
    }
   ],
   "source": [
    "# агреггируем кумулятивные данные о визитах\n",
    "visitors_agg = date_group.apply(lambda x: visitors[np.logical_and(visitors['date'] <= x['date'], \n",
    "                                                                  visitors['group'] == x['group'])]\\\n",
    "                              .agg({'date' : 'max', 'group' : 'max', 'visitors' : 'sum'}), axis=1)\\\n",
    "                              .sort_values(by=['date','group'])\n",
    "visitors_agg.head(3)"
   ]
  },
  {
   "cell_type": "code",
   "execution_count": 192,
   "metadata": {},
   "outputs": [
    {
     "data": {
      "text/html": [
       "<div>\n",
       "<style scoped>\n",
       "    .dataframe tbody tr th:only-of-type {\n",
       "        vertical-align: middle;\n",
       "    }\n",
       "\n",
       "    .dataframe tbody tr th {\n",
       "        vertical-align: top;\n",
       "    }\n",
       "\n",
       "    .dataframe thead th {\n",
       "        text-align: right;\n",
       "    }\n",
       "</style>\n",
       "<table border=\"1\" class=\"dataframe\">\n",
       "  <thead>\n",
       "    <tr style=\"text-align: right;\">\n",
       "      <th></th>\n",
       "      <th>date</th>\n",
       "      <th>group</th>\n",
       "      <th>orders</th>\n",
       "      <th>buyers</th>\n",
       "      <th>revenue</th>\n",
       "      <th>visitors</th>\n",
       "    </tr>\n",
       "  </thead>\n",
       "  <tbody>\n",
       "    <tr>\n",
       "      <th>0</th>\n",
       "      <td>2019-08-01</td>\n",
       "      <td>A</td>\n",
       "      <td>23</td>\n",
       "      <td>19</td>\n",
       "      <td>142779</td>\n",
       "      <td>718</td>\n",
       "    </tr>\n",
       "    <tr>\n",
       "      <th>1</th>\n",
       "      <td>2019-08-01</td>\n",
       "      <td>B</td>\n",
       "      <td>17</td>\n",
       "      <td>17</td>\n",
       "      <td>59758</td>\n",
       "      <td>710</td>\n",
       "    </tr>\n",
       "    <tr>\n",
       "      <th>2</th>\n",
       "      <td>2019-08-02</td>\n",
       "      <td>A</td>\n",
       "      <td>42</td>\n",
       "      <td>36</td>\n",
       "      <td>234381</td>\n",
       "      <td>1336</td>\n",
       "    </tr>\n",
       "  </tbody>\n",
       "</table>\n",
       "</div>"
      ],
      "text/plain": [
       "        date group  orders  buyers  revenue  visitors\n",
       "0 2019-08-01     A      23      19   142779       718\n",
       "1 2019-08-01     B      17      17    59758       710\n",
       "2 2019-08-02     A      42      36   234381      1336"
      ]
     },
     "execution_count": 192,
     "metadata": {},
     "output_type": "execute_result"
    }
   ],
   "source": [
    "#  джойним данные обеих таблиц\n",
    "data = orders_agg.merge(visitors_agg, on=['date', 'group'])\n",
    "data.columns = ['date', 'group', 'orders', 'buyers', 'revenue', 'visitors']\n",
    "data.head(3)"
   ]
  },
  {
   "cell_type": "code",
   "execution_count": 193,
   "metadata": {},
   "outputs": [],
   "source": [
    "# датафрейм с кумулятивным количеством заказов и кумулятивной выручкой по дням в группе А\n",
    "cummulative_revenue_A = data[data['group']=='A'][['date','revenue', 'orders']]\n",
    "\n",
    "# датафрейм с кумулятивным количеством заказов и кумулятивной выручкой по дням в группе B\n",
    "cummulative_revenue_B = data[data['group']=='B'][['date','revenue', 'orders']]"
   ]
  },
  {
   "cell_type": "code",
   "execution_count": 194,
   "metadata": {},
   "outputs": [
    {
     "data": {
      "text/plain": [
       "<matplotlib.legend.Legend at 0x22d74c5deb8>"
      ]
     },
     "execution_count": 194,
     "metadata": {},
     "output_type": "execute_result"
    },
    {
     "data": {
      "image/png": "[encoded data removed]",
      "text/plain": [
       "<Figure size 432x288 with 1 Axes>"
      ]
     },
     "metadata": {
      "needs_background": "light"
     },
     "output_type": "display_data"
    }
   ],
   "source": [
    "# строим график\n",
    "fig, ax = plt.subplots()\n",
    "plt.plot(cummulative_revenue_A['date'], cummulative_revenue_A['revenue'], label='A')\n",
    "plt.plot(cummulative_revenue_B['date'], cummulative_revenue_B['revenue'], label='B')\n",
    "ax.set(ylabel='Куммулятивная выручка',\n",
    "       title='В группе B наблюдается одномоментный резкий рост выручки')\n",
    "plt.tick_params(axis='x', rotation=45)\n",
    "plt.grid()\n",
    "plt.legend()"
   ]
  },
  {
   "cell_type": "markdown",
   "metadata": {},
   "source": [
    "**Результаты.**  \n",
    "  \n",
    "В начале периода группы вели себя похоже, затем в группе B мы можем наблюдать повышение кумулятивной выручки в сравнение с группой А, но затем группы вновь сравниваются. В середине периода наблюдаем резкий значительный скачок кумулятивной выручки в группе B. Вероятно, такой резкий скачок связан с несколькими аномальными покупками или с аномальным количеством покупок у одного или нескольких покупателей."
   ]
  },
  {
   "cell_type": "markdown",
   "metadata": {},
   "source": [
    "<a name=\"3.2.\"></a>\n",
    "#### 3.2. Кумулятивный средний чек по группам [↑](#Содержание)"
   ]
  },
  {
   "cell_type": "code",
   "execution_count": 195,
   "metadata": {},
   "outputs": [
    {
     "data": {
      "text/plain": [
       "<matplotlib.legend.Legend at 0x22d74d932b0>"
      ]
     },
     "execution_count": 195,
     "metadata": {},
     "output_type": "execute_result"
    },
    {
     "data": {
      "image/png": "[encoded data removed]",
      "text/plain": [
       "<Figure size 432x288 with 1 Axes>"
      ]
     },
     "metadata": {
      "needs_background": "light"
     },
     "output_type": "display_data"
    }
   ],
   "source": [
    "fig, ax = plt.subplots()\n",
    "plt.plot(cummulative_revenue_A['date'], (cummulative_revenue_A['revenue']/cummulative_revenue_A['orders']), label='A')\n",
    "plt.plot(cummulative_revenue_B['date'], (cummulative_revenue_B['revenue']/cummulative_revenue_B['orders']), label='B')\n",
    "plt.tick_params(axis='x', rotation=45)\n",
    "ax.set(ylabel='Куммулятивный средний чек',\n",
    "       title='В группе B наблюдается одномоментый рост, затем снижение')\n",
    "plt.grid()\n",
    "plt.legend()"
   ]
  },
  {
   "cell_type": "markdown",
   "metadata": {},
   "source": [
    "**Результаты**  \n",
    "\n",
    "По графикам сложно определить какую-то определенную тенденцию - в обоих группах наблюдаются повышения и понижения среднего чека. В группе B (как и в графике по выручке) видим резкий скачок - значит он связан с одной или несколькими аномально высокими по стоимости покупками."
   ]
  },
  {
   "cell_type": "markdown",
   "metadata": {},
   "source": [
    "<a name=\"3.3.\"></a>\n",
    "#### 3.3. Относительное изменение кумулятивного среднего чека группы B к группе A [↑](#Содержание)"
   ]
  },
  {
   "cell_type": "code",
   "execution_count": 196,
   "metadata": {},
   "outputs": [
    {
     "data": {
      "text/html": [
       "<div>\n",
       "<style scoped>\n",
       "    .dataframe tbody tr th:only-of-type {\n",
       "        vertical-align: middle;\n",
       "    }\n",
       "\n",
       "    .dataframe tbody tr th {\n",
       "        vertical-align: top;\n",
       "    }\n",
       "\n",
       "    .dataframe thead th {\n",
       "        text-align: right;\n",
       "    }\n",
       "</style>\n",
       "<table border=\"1\" class=\"dataframe\">\n",
       "  <thead>\n",
       "    <tr style=\"text-align: right;\">\n",
       "      <th></th>\n",
       "      <th>date</th>\n",
       "      <th>revenueA</th>\n",
       "      <th>ordersA</th>\n",
       "      <th>revenueB</th>\n",
       "      <th>ordersB</th>\n",
       "    </tr>\n",
       "  </thead>\n",
       "  <tbody>\n",
       "    <tr>\n",
       "      <th>0</th>\n",
       "      <td>2019-08-01</td>\n",
       "      <td>142779</td>\n",
       "      <td>23</td>\n",
       "      <td>59758</td>\n",
       "      <td>17</td>\n",
       "    </tr>\n",
       "    <tr>\n",
       "      <th>1</th>\n",
       "      <td>2019-08-02</td>\n",
       "      <td>234381</td>\n",
       "      <td>42</td>\n",
       "      <td>221801</td>\n",
       "      <td>40</td>\n",
       "    </tr>\n",
       "    <tr>\n",
       "      <th>2</th>\n",
       "      <td>2019-08-03</td>\n",
       "      <td>346854</td>\n",
       "      <td>66</td>\n",
       "      <td>288850</td>\n",
       "      <td>54</td>\n",
       "    </tr>\n",
       "  </tbody>\n",
       "</table>\n",
       "</div>"
      ],
      "text/plain": [
       "        date  revenueA  ordersA  revenueB  ordersB\n",
       "0 2019-08-01    142779       23     59758       17\n",
       "1 2019-08-02    234381       42    221801       40\n",
       "2 2019-08-03    346854       66    288850       54"
      ]
     },
     "execution_count": 196,
     "metadata": {},
     "output_type": "execute_result"
    }
   ],
   "source": [
    "# собираем данные в одном датафрейме\n",
    "сummulative_revenue = cummulative_revenue_A.merge\\\n",
    "                                      (cummulative_revenue_B, left_on='date', right_on='date', how='left', suffixes=['A', 'B'])\n",
    "сummulative_revenue.head(3)"
   ]
  },
  {
   "cell_type": "code",
   "execution_count": 197,
   "metadata": {},
   "outputs": [
    {
     "data": {
      "image/png": "[encoded data removed]",
      "text/plain": [
       "<Figure size 432x288 with 1 Axes>"
      ]
     },
     "metadata": {
      "needs_background": "light"
     },
     "output_type": "display_data"
    }
   ],
   "source": [
    "# cтроим отношение средних чеков\n",
    "fig, ax = plt.subplots()\n",
    "plt.plot(сummulative_revenue['date'],\\\n",
    "                                     (сummulative_revenue['revenueB']/сummulative_revenue['ordersB'])/\\\n",
    "                                     (сummulative_revenue['revenueA']/сummulative_revenue['ordersA'])-1)\n",
    "plt.axhline(y=0, color='black', linestyle='--')\n",
    "plt.tick_params(axis='x', rotation=45)\n",
    "ax.set(ylabel='Отношение средних чеков группы B  к группе A',\n",
    "       title='Направленность среднего чека группы B нестабильна')\n",
    "plt.grid()"
   ]
  },
  {
   "cell_type": "markdown",
   "metadata": {},
   "source": [
    "**Результаты.**\n",
    "\n",
    "По графику нельзя однозначно определить стабильно выше ли средний чек группы B. В графике видны как повышения, так и снижения среднего чека в группе B. Возможно, если удалить выбросы - картина станет более ясной."
   ]
  },
  {
   "cell_type": "markdown",
   "metadata": {},
   "source": [
    "<a name=\"3.4.\"></a>\n",
    "#### 3.4. Кумулятивная конверсия по группам [↑](#Содержание)"
   ]
  },
  {
   "cell_type": "code",
   "execution_count": 198,
   "metadata": {},
   "outputs": [],
   "source": [
    "# считаем кумулятивную конверсию\n",
    "data['conversion'] = data['orders']/data['visitors']\n",
    "\n",
    "# отделяем данные по группе A и B\n",
    "data_A = data[data['group']=='A']\n",
    "data_B = data[data['group']=='B']"
   ]
  },
  {
   "cell_type": "code",
   "execution_count": 199,
   "metadata": {},
   "outputs": [
    {
     "data": {
      "text/plain": [
       "['2019-08-01', '2019-08-31', 0.02, 0.04]"
      ]
     },
     "execution_count": 199,
     "metadata": {},
     "output_type": "execute_result"
    },
    {
     "data": {
      "image/png": "[encoded data removed]",
      "text/plain": [
       "<Figure size 432x288 with 1 Axes>"
      ]
     },
     "metadata": {
      "needs_background": "light"
     },
     "output_type": "display_data"
    }
   ],
   "source": [
    "# строим график\n",
    "fig, ax = plt.subplots()\n",
    "plt.plot(data_A['date'], data_A['conversion'], label='A')\n",
    "plt.plot(data_B['date'], data_B['conversion'], label='B')\n",
    "\n",
    "plt.axhline(y=0, color='black', linestyle='--')\n",
    "plt.tick_params(axis='x', rotation=45)\n",
    "ax.set(ylabel='Конверсия',\n",
    "       title='Направленность среднего чека группы B нестабильна')\n",
    "plt.grid()\n",
    "plt.legend()\n",
    "plt.axis([\"2019-08-01\", '2019-08-31', 0.020, 0.040])"
   ]
  },
  {
   "cell_type": "markdown",
   "metadata": {},
   "source": [
    "**Результаты.**  \n",
    "  \n",
    "В начале периода обе групппы показывали рост конверсии, затем в группе А конверсия значительно снизилась, при том, что в группе B выросла. В группе B до конца периода конверсия остается более высокой по сравнению с А группой. Однако, судя по графику конверсия B со временем всё-таки тяготеет к снижению."
   ]
  },
  {
   "cell_type": "markdown",
   "metadata": {},
   "source": [
    "<a name=\"3.5.\"></a>\n",
    "#### 3.5. Относительное изменение кумулятивной конверсии группы B к группе A  [↑](#Содержание)"
   ]
  },
  {
   "cell_type": "code",
   "execution_count": 200,
   "metadata": {},
   "outputs": [
    {
     "data": {
      "text/html": [
       "<div>\n",
       "<style scoped>\n",
       "    .dataframe tbody tr th:only-of-type {\n",
       "        vertical-align: middle;\n",
       "    }\n",
       "\n",
       "    .dataframe tbody tr th {\n",
       "        vertical-align: top;\n",
       "    }\n",
       "\n",
       "    .dataframe thead th {\n",
       "        text-align: right;\n",
       "    }\n",
       "</style>\n",
       "<table border=\"1\" class=\"dataframe\">\n",
       "  <thead>\n",
       "    <tr style=\"text-align: right;\">\n",
       "      <th></th>\n",
       "      <th>date</th>\n",
       "      <th>groupA</th>\n",
       "      <th>ordersA</th>\n",
       "      <th>buyersA</th>\n",
       "      <th>revenueA</th>\n",
       "      <th>visitorsA</th>\n",
       "      <th>conversionA</th>\n",
       "      <th>groupB</th>\n",
       "      <th>ordersB</th>\n",
       "      <th>buyersB</th>\n",
       "      <th>revenueB</th>\n",
       "      <th>visitorsB</th>\n",
       "      <th>conversionB</th>\n",
       "    </tr>\n",
       "  </thead>\n",
       "  <tbody>\n",
       "    <tr>\n",
       "      <th>0</th>\n",
       "      <td>2019-08-01</td>\n",
       "      <td>A</td>\n",
       "      <td>23</td>\n",
       "      <td>19</td>\n",
       "      <td>142779</td>\n",
       "      <td>718</td>\n",
       "      <td>0.032033</td>\n",
       "      <td>B</td>\n",
       "      <td>17</td>\n",
       "      <td>17</td>\n",
       "      <td>59758</td>\n",
       "      <td>710</td>\n",
       "      <td>0.023944</td>\n",
       "    </tr>\n",
       "    <tr>\n",
       "      <th>1</th>\n",
       "      <td>2019-08-02</td>\n",
       "      <td>A</td>\n",
       "      <td>42</td>\n",
       "      <td>36</td>\n",
       "      <td>234381</td>\n",
       "      <td>1336</td>\n",
       "      <td>0.031437</td>\n",
       "      <td>B</td>\n",
       "      <td>40</td>\n",
       "      <td>39</td>\n",
       "      <td>221801</td>\n",
       "      <td>1290</td>\n",
       "      <td>0.031008</td>\n",
       "    </tr>\n",
       "    <tr>\n",
       "      <th>2</th>\n",
       "      <td>2019-08-03</td>\n",
       "      <td>A</td>\n",
       "      <td>66</td>\n",
       "      <td>60</td>\n",
       "      <td>346854</td>\n",
       "      <td>1843</td>\n",
       "      <td>0.035811</td>\n",
       "      <td>B</td>\n",
       "      <td>54</td>\n",
       "      <td>53</td>\n",
       "      <td>288850</td>\n",
       "      <td>1797</td>\n",
       "      <td>0.030050</td>\n",
       "    </tr>\n",
       "  </tbody>\n",
       "</table>\n",
       "</div>"
      ],
      "text/plain": [
       "        date groupA  ordersA  buyersA  revenueA  visitorsA  conversionA  \\\n",
       "0 2019-08-01      A       23       19    142779        718     0.032033   \n",
       "1 2019-08-02      A       42       36    234381       1336     0.031437   \n",
       "2 2019-08-03      A       66       60    346854       1843     0.035811   \n",
       "\n",
       "  groupB  ordersB  buyersB  revenueB  visitorsB  conversionB  \n",
       "0      B       17       17     59758        710     0.023944  \n",
       "1      B       40       39    221801       1290     0.031008  \n",
       "2      B       54       53    288850       1797     0.030050  "
      ]
     },
     "execution_count": 200,
     "metadata": {},
     "output_type": "execute_result"
    }
   ],
   "source": [
    "#  собираем данные в одном датафрейме\n",
    "cummulative_conversion = data_A.merge(data_B, on='date', suffixes=['A', 'B'])\n",
    "cummulative_conversion.head(3)"
   ]
  },
  {
   "cell_type": "code",
   "execution_count": 201,
   "metadata": {},
   "outputs": [
    {
     "data": {
      "image/png": "[encoded data removed]",
      "text/plain": [
       "<Figure size 432x288 with 1 Axes>"
      ]
     },
     "metadata": {
      "needs_background": "light"
     },
     "output_type": "display_data"
    }
   ],
   "source": [
    "#  строим график\n",
    "fig, ax = plt.subplots()\n",
    "plt.plot(cummulative_conversion['date'], cummulative_conversion['conversionB']/(cummulative_conversion['conversionA']-1))\n",
    "\n",
    "plt.axhline(y=-0.0297, color='grey', linestyle='--')\n",
    "plt.tick_params(axis='x', rotation=45)\n",
    "ax.set(ylabel='Кумулятивная конверсия',\n",
    "       title='Отношение куммулятивной конверсии группы B к группе A')\n",
    "plt.grid()"
   ]
  },
  {
   "cell_type": "markdown",
   "metadata": {},
   "source": [
    "**Результаты.**  \n",
    "  \n",
    "Кумулятивная конверсия группы B начале периода резко снижается, затем следуют как понижения, так и повышения. В концу периода наблюдается постепенное повышение."
   ]
  },
  {
   "cell_type": "markdown",
   "metadata": {},
   "source": [
    "<a name=\"3.6.\"></a>\n",
    "#### 3.6. Точечный график количества заказов по пользователям [↑](#Содержание)"
   ]
  },
  {
   "cell_type": "code",
   "execution_count": 202,
   "metadata": {},
   "outputs": [
    {
     "data": {
      "text/html": [
       "<div>\n",
       "<style scoped>\n",
       "    .dataframe tbody tr th:only-of-type {\n",
       "        vertical-align: middle;\n",
       "    }\n",
       "\n",
       "    .dataframe tbody tr th {\n",
       "        vertical-align: top;\n",
       "    }\n",
       "\n",
       "    .dataframe thead th {\n",
       "        text-align: right;\n",
       "    }\n",
       "</style>\n",
       "<table border=\"1\" class=\"dataframe\">\n",
       "  <thead>\n",
       "    <tr style=\"text-align: right;\">\n",
       "      <th></th>\n",
       "      <th>id</th>\n",
       "      <th>orderid</th>\n",
       "    </tr>\n",
       "  </thead>\n",
       "  <tbody>\n",
       "    <tr>\n",
       "      <th>0</th>\n",
       "      <td>5114589</td>\n",
       "      <td>1</td>\n",
       "    </tr>\n",
       "    <tr>\n",
       "      <th>1</th>\n",
       "      <td>6958315</td>\n",
       "      <td>1</td>\n",
       "    </tr>\n",
       "    <tr>\n",
       "      <th>2</th>\n",
       "      <td>11685486</td>\n",
       "      <td>1</td>\n",
       "    </tr>\n",
       "  </tbody>\n",
       "</table>\n",
       "</div>"
      ],
      "text/plain": [
       "         id  orderid\n",
       "0   5114589        1\n",
       "1   6958315        1\n",
       "2  11685486        1"
      ]
     },
     "execution_count": 202,
     "metadata": {},
     "output_type": "execute_result"
    }
   ],
   "source": [
    "#  аггрегируем данные по количеству заказов на пользователя\n",
    "orders_count = orders.groupby('id', as_index=False).agg({'orderid':'count'})\n",
    "orders_count.head(3)"
   ]
  },
  {
   "cell_type": "code",
   "execution_count": 203,
   "metadata": {},
   "outputs": [
    {
     "data": {
      "text/plain": [
       "[Text(0, 0.5, 'Заказов на 1 пользователя'),\n",
       " Text(0.5, 1.0, 'Наименьшая доля  пользователей делает более 2 заказов')]"
      ]
     },
     "execution_count": 203,
     "metadata": {},
     "output_type": "execute_result"
    },
    {
     "data": {
      "image/png": "[encoded data removed]",
      "text/plain": [
       "<Figure size 432x288 with 1 Axes>"
      ]
     },
     "metadata": {
      "needs_background": "light"
     },
     "output_type": "display_data"
    }
   ],
   "source": [
    "# строим точечный график количества заказов на пользователя\n",
    "x_values = pd.Series(range(0,len(orders_count['orderid'])))\n",
    "\n",
    "fig, ax = plt.subplots()\n",
    "plt.scatter(x_values, orders_count['orderid'])\n",
    "ax.set(ylabel='Заказов на 1 пользователя',\n",
    "       title='Наименьшая доля  пользователей делает более 2 заказов')"
   ]
  },
  {
   "cell_type": "code",
   "execution_count": 204,
   "metadata": {},
   "outputs": [
    {
     "data": {
      "text/html": [
       "<div>\n",
       "<style scoped>\n",
       "    .dataframe tbody tr th:only-of-type {\n",
       "        vertical-align: middle;\n",
       "    }\n",
       "\n",
       "    .dataframe tbody tr th {\n",
       "        vertical-align: top;\n",
       "    }\n",
       "\n",
       "    .dataframe thead th {\n",
       "        text-align: right;\n",
       "    }\n",
       "</style>\n",
       "<table border=\"1\" class=\"dataframe\">\n",
       "  <thead>\n",
       "    <tr style=\"text-align: right;\">\n",
       "      <th></th>\n",
       "      <th>orders_per_ID</th>\n",
       "      <th>count_ID</th>\n",
       "    </tr>\n",
       "  </thead>\n",
       "  <tbody>\n",
       "    <tr>\n",
       "      <th>0</th>\n",
       "      <td>1</td>\n",
       "      <td>937</td>\n",
       "    </tr>\n",
       "    <tr>\n",
       "      <th>1</th>\n",
       "      <td>2</td>\n",
       "      <td>29</td>\n",
       "    </tr>\n",
       "    <tr>\n",
       "      <th>2</th>\n",
       "      <td>3</td>\n",
       "      <td>7</td>\n",
       "    </tr>\n",
       "  </tbody>\n",
       "</table>\n",
       "</div>"
      ],
      "text/plain": [
       "   orders_per_ID  count_ID\n",
       "0              1       937\n",
       "1              2        29\n",
       "2              3         7"
      ]
     },
     "execution_count": 204,
     "metadata": {},
     "output_type": "execute_result"
    }
   ],
   "source": [
    "num = orders_count.groupby('orderid').count()\\\n",
    "                               .reset_index()\n",
    "num = num.rename({'orderid':'orders_per_ID', 'id':'count_ID'}, axis=1)\n",
    "num                    "
   ]
  },
  {
   "cell_type": "markdown",
   "metadata": {},
   "source": [
    "**Результаты**\n",
    "\n",
    "Подавляющее число пользователей делало заказ всего один раз. Около 3-5% делало повторный заказ. Менее 1% заказывало 3 раза."
   ]
  },
  {
   "cell_type": "code",
   "execution_count": 205,
   "metadata": {},
   "outputs": [
    {
     "data": {
      "text/plain": [
       "array([1., 2.])"
      ]
     },
     "execution_count": 205,
     "metadata": {},
     "output_type": "execute_result"
    }
   ],
   "source": [
    "np.percentile(orders_count['orderid'], [95, 99])"
   ]
  },
  {
   "cell_type": "markdown",
   "metadata": {},
   "source": [
    "Не более 1% пользователей делают более 2 заказов. Будем считать аномальными пользователей с более, чем 2 заказами."
   ]
  },
  {
   "cell_type": "markdown",
   "metadata": {},
   "source": [
    "<a name=\"3.7.\"></a>\n",
    "#### 3.7. Точечный график стоимостей заказов [↑](#Содержание)\n"
   ]
  },
  {
   "cell_type": "code",
   "execution_count": 206,
   "metadata": {},
   "outputs": [
    {
     "data": {
      "text/plain": [
       "[Text(0, 0.5, 'Стоимость заказа'),\n",
       " Text(0.5, 1.0, 'Основная часть заказов не выходит за рамки стоимости 200 000')]"
      ]
     },
     "execution_count": 206,
     "metadata": {},
     "output_type": "execute_result"
    },
    {
     "data": {
      "image/png": "[encoded data removed]",
      "text/plain": [
       "<Figure size 432x288 with 1 Axes>"
      ]
     },
     "metadata": {
      "needs_background": "light"
     },
     "output_type": "display_data"
    }
   ],
   "source": [
    "# строим точечный график стоимости заказа\n",
    "x_values = pd.Series(range(0,len(orders['revenue'])))\n",
    "\n",
    "fig, ax = plt.subplots()\n",
    "plt.scatter(x_values, orders['revenue'])\n",
    "ax.set(ylabel='Стоимость заказа',\n",
    "       title='Основная часть заказов не выходит за рамки стоимости 200 000')"
   ]
  },
  {
   "cell_type": "code",
   "execution_count": 207,
   "metadata": {},
   "outputs": [
    {
     "data": {
      "text/plain": [
       "[Text(0, 0.5, 'Стоимость заказа'),\n",
       " Text(0.5, 1.0, 'Основная часть заказов приходится до 50 000')]"
      ]
     },
     "execution_count": 207,
     "metadata": {},
     "output_type": "execute_result"
    },
    {
     "data": {
      "image/png": "[encoded data removed]",
      "text/plain": [
       "<Figure size 432x288 with 1 Axes>"
      ]
     },
     "metadata": {
      "needs_background": "light"
     },
     "output_type": "display_data"
    }
   ],
   "source": [
    "# строим точечный график стоимости заказа в более крупном масштабе (исключив 2 аномальные точки)\n",
    "fig, ax = plt.subplots()\n",
    "plt.scatter(x_values, orders['revenue'])\n",
    "plt.axis([0, 1000, 0, 100000])\n",
    "ax.set(ylabel='Стоимость заказа',\n",
    "       title='Основная часть заказов приходится до 50 000')"
   ]
  },
  {
   "cell_type": "code",
   "execution_count": 208,
   "metadata": {},
   "outputs": [
    {
     "data": {
      "text/plain": [
       "array([34792., 53904.])"
      ]
     },
     "execution_count": 208,
     "metadata": {},
     "output_type": "execute_result"
    }
   ],
   "source": [
    "np.percentile(orders['revenue'], [97, 99])"
   ]
  },
  {
   "cell_type": "markdown",
   "metadata": {},
   "source": [
    "На первом графике видно 2 аномальных заказах, при изменении масштаба видно, что их больше - не более 1% пользователей делают заказ свыше 53904. Аномальным будем считать заказы дороже 99 перцентиля."
   ]
  },
  {
   "cell_type": "markdown",
   "metadata": {},
   "source": [
    "<a name=\"4.\"></a>\n",
    "### 4. Проверка статистической значимости различий в группах A/B теста [↑](#Содержание)"
   ]
  },
  {
   "cell_type": "markdown",
   "metadata": {},
   "source": [
    "<a name=\"4.1.\"></a>\n",
    "#### 4.1. Статистическая значимость различий в конверсии между группами по «сырым» данным [↑](#Содержание)"
   ]
  },
  {
   "cell_type": "code",
   "execution_count": 209,
   "metadata": {},
   "outputs": [
    {
     "data": {
      "text/html": [
       "<div>\n",
       "<style scoped>\n",
       "    .dataframe tbody tr th:only-of-type {\n",
       "        vertical-align: middle;\n",
       "    }\n",
       "\n",
       "    .dataframe tbody tr th {\n",
       "        vertical-align: top;\n",
       "    }\n",
       "\n",
       "    .dataframe thead th {\n",
       "        text-align: right;\n",
       "    }\n",
       "</style>\n",
       "<table border=\"1\" class=\"dataframe\">\n",
       "  <thead>\n",
       "    <tr style=\"text-align: right;\">\n",
       "      <th></th>\n",
       "      <th>date</th>\n",
       "      <th>cummulative_ordersA</th>\n",
       "      <th>cummulative_ordersB</th>\n",
       "      <th>cummulative_buyersA</th>\n",
       "      <th>cummulative_buyersB</th>\n",
       "      <th>cummulative_visitorsA</th>\n",
       "      <th>cummulative_visitorsB</th>\n",
       "      <th>cummulative_revenueA</th>\n",
       "      <th>cummulative_revenueB</th>\n",
       "      <th>buyersA</th>\n",
       "      <th>buyersB</th>\n",
       "      <th>visitorsA</th>\n",
       "      <th>visitorsB</th>\n",
       "    </tr>\n",
       "  </thead>\n",
       "  <tbody>\n",
       "    <tr>\n",
       "      <th>0</th>\n",
       "      <td>2019-08-01</td>\n",
       "      <td>23</td>\n",
       "      <td>17</td>\n",
       "      <td>19</td>\n",
       "      <td>17</td>\n",
       "      <td>718</td>\n",
       "      <td>710</td>\n",
       "      <td>142779</td>\n",
       "      <td>59758</td>\n",
       "      <td>23</td>\n",
       "      <td>17</td>\n",
       "      <td>718</td>\n",
       "      <td>710</td>\n",
       "    </tr>\n",
       "    <tr>\n",
       "      <th>1</th>\n",
       "      <td>2019-08-02</td>\n",
       "      <td>42</td>\n",
       "      <td>40</td>\n",
       "      <td>36</td>\n",
       "      <td>39</td>\n",
       "      <td>1336</td>\n",
       "      <td>1290</td>\n",
       "      <td>234381</td>\n",
       "      <td>221801</td>\n",
       "      <td>19</td>\n",
       "      <td>23</td>\n",
       "      <td>618</td>\n",
       "      <td>580</td>\n",
       "    </tr>\n",
       "  </tbody>\n",
       "</table>\n",
       "</div>"
      ],
      "text/plain": [
       "        date  cummulative_ordersA  cummulative_ordersB  cummulative_buyersA  \\\n",
       "0 2019-08-01                   23                   17                   19   \n",
       "1 2019-08-02                   42                   40                   36   \n",
       "\n",
       "   cummulative_buyersB  cummulative_visitorsA  cummulative_visitorsB  \\\n",
       "0                   17                    718                    710   \n",
       "1                   39                   1336                   1290   \n",
       "\n",
       "   cummulative_revenueA  cummulative_revenueB  buyersA  buyersB  visitorsA  \\\n",
       "0                142779                 59758       23       17        718   \n",
       "1                234381                221801       19       23        618   \n",
       "\n",
       "   visitorsB  \n",
       "0        710  \n",
       "1        580  "
      ]
     },
     "execution_count": 209,
     "metadata": {},
     "output_type": "execute_result"
    }
   ],
   "source": [
    "#  создаем срезы количества заказов по датам и группам теста\n",
    "ordersA_count = orders[orders['group']=='A'].groupby('date', as_index=False).agg({'orderid': 'count'})\n",
    "ordersA_count.columns = ['date', 'buyers']\n",
    "\n",
    "ordersB_count = orders[orders['group']=='B'].groupby('date', as_index=False).agg({'orderid': 'count'})\n",
    "ordersB_count.columns = ['date', 'buyers']\n",
    "\n",
    "#  создаем срезы количества покупателей по датам и группам теста\n",
    "visitorsA = visitors[visitors['group']=='A'][['date', 'visitors']]\n",
    "visitorsB = visitors[visitors['group']=='B'][['date', 'visitors']]\n",
    "\n",
    "#  переименовываем столбцы в изначальной таблице кумулятивных данных\n",
    "cummulative_data = cummulative_conversion[['date', 'ordersA', 'ordersB', 'buyersA', 'buyersB', 'visitorsA', 'visitorsB', 'revenueA', 'revenueB']]\n",
    "cummulative_data.columns = ['date', 'cummulative_ordersA', 'cummulative_ordersB', 'cummulative_buyersA', 'cummulative_buyersB', 'cummulative_visitorsA', 'cummulative_visitorsB', 'cummulative_revenueA', 'cummulative_revenueB']\n",
    "\n",
    "#  мерджим получившиеся таблицы с таблицей кумулятивных данных в одну\n",
    "cummulative_data = cummulative_data.merge(ordersA_count, on='date', suffixes=['A', 'B']).\\\n",
    "                                    merge(ordersB_count, on='date', suffixes=['A', 'B']).\\\n",
    "                                    merge(visitorsA, on='date', suffixes=['A', 'B']).\\\n",
    "                                    merge(visitorsB, on='date', suffixes=['A', 'B'])\n",
    "cummulative_data.head(2)"
   ]
  },
  {
   "cell_type": "code",
   "execution_count": 210,
   "metadata": {},
   "outputs": [],
   "source": [
    "# аггрегируем данные по количеству заказов для каждого покупателя\n",
    "ordersA = orders[orders['group']=='A'].groupby('id', as_index=False).agg({'orderid' : pd.Series.nunique})\n",
    "ordersA.columns = ['userid', 'orders']\n",
    "\n",
    "ordersB = orders[orders['group']=='B'].groupby('id', as_index=False).agg({'orderid' : pd.Series.nunique})\n",
    "ordersB.columns = ['userid', 'orders']"
   ]
  },
  {
   "cell_type": "code",
   "execution_count": 211,
   "metadata": {},
   "outputs": [],
   "source": [
    "#  создаем таблицы, состоящие из двух частей: 1-ая часть таблиц  - соответствующие таблицы ordersA и ordersB, \n",
    "#     а вторая часть нулевые значения - пользователи, которые не сделали ни одной покупки\n",
    "sampleA = pd.concat([ordersA['orders'],pd.Series\\\n",
    "                     (0, index=np.arange(cummulative_data['visitorsA'].sum() - len(ordersA['orders'])), name='orders')],axis=0)\n",
    "\n",
    "sampleB = pd.concat([ordersB['orders'],pd.Series\\\n",
    "                     (0, index=np.arange(cummulative_data['visitorsB'].sum() - len(ordersB['orders'])), name='orders')],axis=0)"
   ]
  },
  {
   "cell_type": "code",
   "execution_count": 212,
   "metadata": {},
   "outputs": [
    {
     "name": "stdout",
     "output_type": "stream",
     "text": [
      "0.006 P-value\n",
      "0.160 Отношение конверсии группы B к группе A\n"
     ]
    }
   ],
   "source": [
    "# применяем статистический критерий Манна-Уитни к полученным выборкам\n",
    "print(\"{0:.3f} P-value\".format(stats.mannwhitneyu(sampleA, sampleB)[1]))\n",
    "print(\"{0:.3f} Отношение конверсии группы B к группе A\".format(sampleB.mean()/sampleA.mean()-1))"
   ]
  },
  {
   "cell_type": "markdown",
   "metadata": {},
   "source": [
    "**Результаты.**  \n",
    "  \n",
    "P-value меньше уровня 0.05 и соответственно, нам следует отвергнуть нулевую гипотезу о том, что нет статистически значимых различий в конверсии в исследуемых группах и принять альтернативную гипотезу, гласящую о том, что между исследуемыми группами могут иметь место статистически значимые различия в конверсии. В рассматриваемом периоде это различие составляет 16% в пользу группы B."
   ]
  },
  {
   "cell_type": "markdown",
   "metadata": {},
   "source": [
    "<a name=\"4.2.\"></a>\n",
    "#### 4.2. Статистическая значимость различий среднего чека заказа между группами по «сырым» данным [↑](#Содержание)"
   ]
  },
  {
   "cell_type": "code",
   "execution_count": 213,
   "metadata": {
    "scrolled": true
   },
   "outputs": [
    {
     "name": "stdout",
     "output_type": "stream",
     "text": [
      "0.415 P-value\n",
      "0.287 Отношение среднего чека группы B к группе A\n"
     ]
    }
   ],
   "source": [
    "# применяем статистический критерий Манна-Уитни к выборкам\n",
    "print(\"{0:.3f} P-value\".format(stats.mannwhitneyu(orders[orders['group']=='A']['revenue'], orders[orders['group']=='B']['revenue'])[1]))\n",
    "print(\"{0:.3f} Отношение среднего чека группы B к группе A\".format(orders[orders['group']=='B']['revenue'].mean()/orders[orders['group']=='A']['revenue'].mean()-1))"
   ]
  },
  {
   "cell_type": "markdown",
   "metadata": {},
   "source": [
    "**Результаты.** \n",
    "  \n",
    "P-value значительно выше уровня 0.05 и соответственно, мы не можем отвергать нулевую гипотезу о том, что нет статистически значимых различий в размере среднего чека в исследуемых группах. Однако, интересно увидеть, что в группе B относительный прирост среднего чека составляет 28,7%. Вероятно, что это это связано с несколькими аномальными заказами."
   ]
  },
  {
   "cell_type": "markdown",
   "metadata": {},
   "source": [
    "<a name=\"4.3.\"></a>\n",
    "#### 4.3. Статистическая значимость различий в конверсии между группами по «очищенным» данным [↑](#Содержание)"
   ]
  },
  {
   "cell_type": "markdown",
   "metadata": {},
   "source": [
    "Составим список пользователей с \"аномальным\" поведением."
   ]
  },
  {
   "cell_type": "code",
   "execution_count": 214,
   "metadata": {},
   "outputs": [
    {
     "name": "stdout",
     "output_type": "stream",
     "text": [
      "Всего 'аномальных' пользователей: 16 (1.6%)\n"
     ]
    }
   ],
   "source": [
    "#  создаем список аномальных userid, у которых более 1 заказа за период\n",
    "usersWithManyOrders = pd.concat([ordersA[ordersA['orders'] > np.percentile(orders_count['orderid'], [99])[0]]['userid'],\\\n",
    "                                 ordersB[ordersB['orders'] > np.percentile(orders_count['orderid'], [99])[0]]['userid']], axis = 0)\n",
    "\n",
    "\n",
    "#  создаем список аномальных userid, которые тратили более 27000 за заказ\n",
    "usersWithExpensiveOrders = orders[orders['revenue'] > np.percentile(orders['revenue'], [99])[0]]['id']\n",
    "\n",
    "#  объединяем обе таблицы, удаляем дубликаты\n",
    "abnormalUsers = pd.concat([usersWithManyOrders, usersWithExpensiveOrders], axis = 0).drop_duplicates().sort_values()\n",
    "print(\"Всего 'аномальных' пользователей: {} ({:.1%})\".format(abnormalUsers.count(), \n",
    "                                                             abnormalUsers.count() / orders['id'].nunique()))"
   ]
  },
  {
   "cell_type": "code",
   "execution_count": 215,
   "metadata": {},
   "outputs": [],
   "source": [
    "#  создаем таблицы, состоящие из двух частей: 1-ая часть таблиц  - соответствующие таблицы ordersA и ordersB, \n",
    "#     а вторая часть нулевые значения - пользователи, которые не сделали ни одной покупки\n",
    "sampleAFiltered = pd.concat([ordersA[np.logical_not(ordersA['userid'].isin(abnormalUsers))]['orders'],\\\n",
    "                             pd.Series(0, index=np.arange(cummulative_data['visitorsA'].sum() - len(ordersA['orders'])),\\\n",
    "                                       name='orders')],axis=0)\n",
    "\n",
    "sampleBFiltered = pd.concat([ordersB[np.logical_not(ordersB['userid'].isin(abnormalUsers))]['orders'],\\\n",
    "                             pd.Series(0, index=np.arange(cummulative_data['visitorsB'].sum() - len(ordersB['orders'])),\\\n",
    "                                       name='orders')],axis=0)"
   ]
  },
  {
   "cell_type": "code",
   "execution_count": 216,
   "metadata": {},
   "outputs": [
    {
     "name": "stdout",
     "output_type": "stream",
     "text": [
      "0.004  P-value\n",
      "0.189 Отношение конверсии группы B к группе A\n"
     ]
    }
   ],
   "source": [
    "# применяем статистический критерий Манна-Уитни к полученным выборкам\n",
    "print(\"{0:.3f}  P-value\".format(stats.mannwhitneyu(sampleAFiltered, sampleBFiltered)[1]))\n",
    "print(\"{0:.3f} Отношение конверсии группы B к группе A\".format(sampleBFiltered.mean()/sampleAFiltered.mean()-1))"
   ]
  },
  {
   "cell_type": "markdown",
   "metadata": {},
   "source": [
    "**Результаты.**  \n",
    "  \n",
    "Как и в \"сырых данных\" P-value меньше уровня 0.05 и соответственно, нам следует отвергнуть нулевую гипотезу о том, что нет статистически значимых различий в конверсии в исследуемых группах и принять альтернативную гипотезу. Относительный прирост выше в \"очищенных\" данных 18,9% против 16% \"сырых\" данных в пользу группы B."
   ]
  },
  {
   "cell_type": "markdown",
   "metadata": {},
   "source": [
    "<a name=\"4.4.\"></a>\n",
    "#### 4.4. Статистическая значимость различий среднего чека заказа между группами по «очищенным» данным [↑](#Содержание)"
   ]
  },
  {
   "cell_type": "code",
   "execution_count": 217,
   "metadata": {},
   "outputs": [
    {
     "name": "stdout",
     "output_type": "stream",
     "text": [
      "0.394 P-value\n",
      "-0.032  Отношение среднего чека группы B к группе A\n"
     ]
    }
   ],
   "source": [
    "# применим статистический критерий Манна-Уитни к выборкам\n",
    "\n",
    "print(\"{0:.3f} P-value\".format(stats.mannwhitneyu(\n",
    "    orders[np.logical_and(\n",
    "        orders['group']=='A',\n",
    "        np.logical_not(orders['id'].isin(abnormalUsers)))]['revenue'],\n",
    "    orders[np.logical_and(\n",
    "        orders['group']=='B',\n",
    "        np.logical_not(orders['id'].isin(abnormalUsers)))]['revenue'])[1]))\n",
    "\n",
    "print(\"{0:.3f}  Отношение среднего чека группы B к группе A\".format(\n",
    "    orders[np.logical_and(orders['group']=='B',np.logical_not(orders['id'].isin(abnormalUsers)))]['revenue'].mean()/\n",
    "    orders[np.logical_and(\n",
    "        orders['group']=='A',\n",
    "        np.logical_not(orders['id'].isin(abnormalUsers)))]['revenue'].mean() - 1))"
   ]
  },
  {
   "cell_type": "markdown",
   "metadata": {},
   "source": [
    "**Результаты.**  \n",
    "  \n",
    "P-value значительно выше уровня 0.05 и соответственно, мы не можем отвергать нулевую гипотезу о том, что нет статистически значимых различий в размере среднего чека в исследуемых группах, как и в случае с \"сырыми данными\".  \n",
    "Как и предполагалось, высокий прирост среднего чека в \"сырых\" данных был связан с аномально дорогими заказами. Прирост среднего чека снизился с 28,7% в \"сырых\" данных до отрицательных -3.2% в очищенных."
   ]
  },
  {
   "cell_type": "markdown",
   "metadata": {},
   "source": [
    "<a name=\"5.\"></a>\n",
    "#### 5. Выводы [↑](#Содержание)"
   ]
  },
  {
   "cell_type": "markdown",
   "metadata": {},
   "source": [
    "Тестирование следует остановить и считать удачным. \n",
    "1. По результатам теста в группе B отмечается статистически значимый прирост конверсии на 16% (после очистки от \"аномальных\" пользователей - 18,9%).\n",
    "2. Статистически значимого прироста в среднем чеке не отмечается."
   ]
  }
 ],
 "metadata": {
  "kernelspec": {
   "display_name": "Python 3",
   "language": "python",
   "name": "python3"
  },
  "language_info": {
   "codemirror_mode": {
    "name": "ipython",
    "version": 3
   },
   "file_extension": ".py",
   "mimetype": "text/x-python",
   "name": "python",
   "nbconvert_exporter": "python",
   "pygments_lexer": "ipython3",
   "version": "3.7.3"
  }
 },
 "nbformat": 4,
 "nbformat_minor": 2
}
